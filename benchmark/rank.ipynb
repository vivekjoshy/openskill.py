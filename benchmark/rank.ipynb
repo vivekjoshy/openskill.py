{
 "cells": [
  {
   "cell_type": "markdown",
   "id": "b64c2bbf",
   "metadata": {
    "papermill": {
     "duration": 0.010175,
     "end_time": "2024-07-16T16:03:16.498256",
     "exception": false,
     "start_time": "2024-07-16T16:03:16.488081",
     "status": "completed"
    },
    "tags": []
   },
   "source": [
    "## Rank Accuracy Benchmarks\n",
    "This is a reproducible benchmark that checks the accuracy of [openskill.py](https://openskill.me/) against a large dataset of PUBG matches.\n",
    "\n",
    "Let's start by importing the necessary libraries:"
   ]
  },
  {
   "cell_type": "code",
   "execution_count": 1,
   "id": "8ffd29e6",
   "metadata": {
    "execution": {
     "iopub.execute_input": "2024-07-16T16:03:16.522598Z",
     "iopub.status.busy": "2024-07-16T16:03:16.522055Z",
     "iopub.status.idle": "2024-07-16T16:03:37.675116Z",
     "shell.execute_reply": "2024-07-16T16:03:37.673401Z"
    },
    "papermill": {
     "duration": 21.169387,
     "end_time": "2024-07-16T16:03:37.678283",
     "exception": false,
     "start_time": "2024-07-16T16:03:16.508896",
     "status": "completed"
    },
    "tags": []
   },
   "outputs": [
    {
     "name": "stdout",
     "output_type": "stream",
     "text": [
      "Requirement already satisfied: polars in /opt/conda/lib/python3.10/site-packages (1.1.0)\r\n",
      "Collecting rbo\r\n",
      "  Downloading rbo-0.1.3-py3-none-any.whl.metadata (4.6 kB)\r\n",
      "Requirement already satisfied: rich in /opt/conda/lib/python3.10/site-packages (13.7.0)\r\n",
      "Collecting rich\r\n",
      "  Downloading rich-13.7.1-py3-none-any.whl.metadata (18 kB)\r\n",
      "Requirement already satisfied: numpy in /opt/conda/lib/python3.10/site-packages (1.26.4)\r\n",
      "Collecting numpy\r\n",
      "  Downloading numpy-2.0.0-cp310-cp310-manylinux_2_17_x86_64.manylinux2014_x86_64.whl.metadata (60 kB)\r\n",
      "\u001B[2K     \u001B[90m━━━━━━━━━━━━━━━━━━━━━━━━━━━━━━━━━━━━━━━━\u001B[0m \u001B[32m60.9/60.9 kB\u001B[0m \u001B[31m1.9 MB/s\u001B[0m eta \u001B[36m0:00:00\u001B[0m\r\n",
      "\u001B[?25hRequirement already satisfied: tqdm in /opt/conda/lib/python3.10/site-packages (4.66.4)\r\n",
      "Requirement already satisfied: pooch in /opt/conda/lib/python3.10/site-packages (1.8.2)\r\n",
      "Requirement already satisfied: ipywidgets in /opt/conda/lib/python3.10/site-packages (7.7.1)\r\n",
      "Collecting ipywidgets\r\n",
      "  Downloading ipywidgets-8.1.3-py3-none-any.whl.metadata (2.4 kB)\r\n",
      "Collecting openskill\r\n",
      "  Downloading openskill-6.0.0-py3-none-any.whl.metadata (6.7 kB)\r\n",
      "Requirement already satisfied: markdown-it-py>=2.2.0 in /opt/conda/lib/python3.10/site-packages (from rich) (3.0.0)\r\n",
      "Requirement already satisfied: pygments<3.0.0,>=2.13.0 in /opt/conda/lib/python3.10/site-packages (from rich) (2.17.2)\r\n",
      "Requirement already satisfied: platformdirs>=2.5.0 in /opt/conda/lib/python3.10/site-packages (from pooch) (3.11.0)\r\n",
      "Requirement already satisfied: packaging>=20.0 in /opt/conda/lib/python3.10/site-packages (from pooch) (21.3)\r\n",
      "Requirement already satisfied: requests>=2.19.0 in /opt/conda/lib/python3.10/site-packages (from pooch) (2.32.3)\r\n",
      "Requirement already satisfied: comm>=0.1.3 in /opt/conda/lib/python3.10/site-packages (from ipywidgets) (0.2.1)\r\n",
      "Requirement already satisfied: ipython>=6.1.0 in /opt/conda/lib/python3.10/site-packages (from ipywidgets) (8.20.0)\r\n",
      "Requirement already satisfied: traitlets>=4.3.1 in /opt/conda/lib/python3.10/site-packages (from ipywidgets) (5.9.0)\r\n",
      "Collecting widgetsnbextension~=4.0.11 (from ipywidgets)\r\n",
      "  Downloading widgetsnbextension-4.0.11-py3-none-any.whl.metadata (1.6 kB)\r\n",
      "Collecting jupyterlab-widgets~=3.0.11 (from ipywidgets)\r\n",
      "  Downloading jupyterlab_widgets-3.0.11-py3-none-any.whl.metadata (4.1 kB)\r\n",
      "Requirement already satisfied: decorator in /opt/conda/lib/python3.10/site-packages (from ipython>=6.1.0->ipywidgets) (5.1.1)\r\n",
      "Requirement already satisfied: jedi>=0.16 in /opt/conda/lib/python3.10/site-packages (from ipython>=6.1.0->ipywidgets) (0.19.1)\r\n",
      "Requirement already satisfied: matplotlib-inline in /opt/conda/lib/python3.10/site-packages (from ipython>=6.1.0->ipywidgets) (0.1.6)\r\n",
      "Requirement already satisfied: prompt-toolkit<3.1.0,>=3.0.41 in /opt/conda/lib/python3.10/site-packages (from ipython>=6.1.0->ipywidgets) (3.0.42)\r\n",
      "Requirement already satisfied: stack-data in /opt/conda/lib/python3.10/site-packages (from ipython>=6.1.0->ipywidgets) (0.6.2)\r\n",
      "Requirement already satisfied: exceptiongroup in /opt/conda/lib/python3.10/site-packages (from ipython>=6.1.0->ipywidgets) (1.2.0)\r\n",
      "Requirement already satisfied: pexpect>4.3 in /opt/conda/lib/python3.10/site-packages (from ipython>=6.1.0->ipywidgets) (4.8.0)\r\n",
      "Requirement already satisfied: mdurl~=0.1 in /opt/conda/lib/python3.10/site-packages (from markdown-it-py>=2.2.0->rich) (0.1.2)\r\n",
      "Requirement already satisfied: pyparsing!=3.0.5,>=2.0.2 in /opt/conda/lib/python3.10/site-packages (from packaging>=20.0->pooch) (3.1.1)\r\n",
      "Requirement already satisfied: charset-normalizer<4,>=2 in /opt/conda/lib/python3.10/site-packages (from requests>=2.19.0->pooch) (3.3.2)\r\n",
      "Requirement already satisfied: idna<4,>=2.5 in /opt/conda/lib/python3.10/site-packages (from requests>=2.19.0->pooch) (3.6)\r\n",
      "Requirement already satisfied: urllib3<3,>=1.21.1 in /opt/conda/lib/python3.10/site-packages (from requests>=2.19.0->pooch) (1.26.18)\r\n",
      "Requirement already satisfied: certifi>=2017.4.17 in /opt/conda/lib/python3.10/site-packages (from requests>=2.19.0->pooch) (2024.7.4)\r\n",
      "Requirement already satisfied: parso<0.9.0,>=0.8.3 in /opt/conda/lib/python3.10/site-packages (from jedi>=0.16->ipython>=6.1.0->ipywidgets) (0.8.3)\r\n",
      "Requirement already satisfied: ptyprocess>=0.5 in /opt/conda/lib/python3.10/site-packages (from pexpect>4.3->ipython>=6.1.0->ipywidgets) (0.7.0)\r\n",
      "Requirement already satisfied: wcwidth in /opt/conda/lib/python3.10/site-packages (from prompt-toolkit<3.1.0,>=3.0.41->ipython>=6.1.0->ipywidgets) (0.2.13)\r\n",
      "Requirement already satisfied: executing>=1.2.0 in /opt/conda/lib/python3.10/site-packages (from stack-data->ipython>=6.1.0->ipywidgets) (2.0.1)\r\n",
      "Requirement already satisfied: asttokens>=2.1.0 in /opt/conda/lib/python3.10/site-packages (from stack-data->ipython>=6.1.0->ipywidgets) (2.4.1)\r\n",
      "Requirement already satisfied: pure-eval in /opt/conda/lib/python3.10/site-packages (from stack-data->ipython>=6.1.0->ipywidgets) (0.2.2)\r\n",
      "Requirement already satisfied: six>=1.12.0 in /opt/conda/lib/python3.10/site-packages (from asttokens>=2.1.0->stack-data->ipython>=6.1.0->ipywidgets) (1.16.0)\r\n",
      "Downloading rbo-0.1.3-py3-none-any.whl (7.8 kB)\r\n",
      "Downloading rich-13.7.1-py3-none-any.whl (240 kB)\r\n",
      "\u001B[2K   \u001B[90m━━━━━━━━━━━━━━━━━━━━━━━━━━━━━━━━━━━━━━━━\u001B[0m \u001B[32m240.7/240.7 kB\u001B[0m \u001B[31m9.1 MB/s\u001B[0m eta \u001B[36m0:00:00\u001B[0m\r\n",
      "\u001B[?25hDownloading ipywidgets-8.1.3-py3-none-any.whl (139 kB)\r\n",
      "\u001B[2K   \u001B[90m━━━━━━━━━━━━━━━━━━━━━━━━━━━━━━━━━━━━━━━━\u001B[0m \u001B[32m139.4/139.4 kB\u001B[0m \u001B[31m6.3 MB/s\u001B[0m eta \u001B[36m0:00:00\u001B[0m\r\n",
      "\u001B[?25hDownloading openskill-6.0.0-py3-none-any.whl (50 kB)\r\n",
      "\u001B[2K   \u001B[90m━━━━━━━━━━━━━━━━━━━━━━━━━━━━━━━━━━━━━━━━\u001B[0m \u001B[32m50.9/50.9 kB\u001B[0m \u001B[31m2.2 MB/s\u001B[0m eta \u001B[36m0:00:00\u001B[0m\r\n",
      "\u001B[?25hDownloading jupyterlab_widgets-3.0.11-py3-none-any.whl (214 kB)\r\n",
      "\u001B[2K   \u001B[90m━━━━━━━━━━━━━━━━━━━━━━━━━━━━━━━━━━━━━━━━\u001B[0m \u001B[32m214.4/214.4 kB\u001B[0m \u001B[31m8.9 MB/s\u001B[0m eta \u001B[36m0:00:00\u001B[0m\r\n",
      "\u001B[?25hDownloading widgetsnbextension-4.0.11-py3-none-any.whl (2.3 MB)\r\n",
      "\u001B[2K   \u001B[90m━━━━━━━━━━━━━━━━━━━━━━━━━━━━━━━━━━━━━━━━\u001B[0m \u001B[32m2.3/2.3 MB\u001B[0m \u001B[31m42.2 MB/s\u001B[0m eta \u001B[36m0:00:00\u001B[0m\r\n",
      "\u001B[?25hInstalling collected packages: widgetsnbextension, rbo, openskill, jupyterlab-widgets, rich, ipywidgets\r\n",
      "  Attempting uninstall: widgetsnbextension\r\n",
      "    Found existing installation: widgetsnbextension 3.6.7\r\n",
      "    Uninstalling widgetsnbextension-3.6.7:\r\n",
      "      Successfully uninstalled widgetsnbextension-3.6.7\r\n",
      "  Attempting uninstall: jupyterlab-widgets\r\n",
      "    Found existing installation: jupyterlab-widgets 3.0.9\r\n",
      "    Uninstalling jupyterlab-widgets-3.0.9:\r\n",
      "      Successfully uninstalled jupyterlab-widgets-3.0.9\r\n",
      "  Attempting uninstall: rich\r\n",
      "    Found existing installation: rich 13.7.0\r\n",
      "    Uninstalling rich-13.7.0:\r\n",
      "      Successfully uninstalled rich-13.7.0\r\n",
      "  Attempting uninstall: ipywidgets\r\n",
      "    Found existing installation: ipywidgets 7.7.1\r\n",
      "    Uninstalling ipywidgets-7.7.1:\r\n",
      "      Successfully uninstalled ipywidgets-7.7.1\r\n",
      "\u001B[31mERROR: pip's dependency resolver does not currently take into account all the packages that are installed. This behaviour is the source of the following dependency conflicts.\r\n",
      "tensorflow-decision-forests 1.8.1 requires wurlitzer, which is not installed.\r\n",
      "tensorflow 2.15.0 requires keras<2.16,>=2.15.0, but you have keras 3.4.1 which is incompatible.\u001B[0m\u001B[31m\r\n",
      "\u001B[0mSuccessfully installed ipywidgets-8.1.3 jupyterlab-widgets-3.0.11 openskill-6.0.0 rbo-0.1.3 rich-13.7.1 widgetsnbextension-4.0.11\r\n",
      "Note: you may need to restart the kernel to use updated packages.\n"
     ]
    }
   ],
   "source": [
    "%pip install -U polars rbo rich numpy tqdm pooch ipywidgets openskill"
   ]
  },
  {
   "cell_type": "markdown",
   "id": "3d592e75",
   "metadata": {
    "papermill": {
     "duration": 0.014465,
     "end_time": "2024-07-16T16:03:37.706810",
     "exception": false,
     "start_time": "2024-07-16T16:03:37.692345",
     "status": "completed"
    },
    "tags": []
   },
   "source": [
    "## Import Libraries\n",
    "We going to import polars to do the data loading and rich to display things in user friendly format.\n",
    "We are also going to import ipywidget for native iteractivity within the browser."
   ]
  },
  {
   "cell_type": "code",
   "execution_count": 2,
   "id": "089ddba0",
   "metadata": {
    "execution": {
     "iopub.execute_input": "2024-07-16T16:03:37.735211Z",
     "iopub.status.busy": "2024-07-16T16:03:37.734740Z",
     "iopub.status.idle": "2024-07-16T16:03:38.240763Z",
     "shell.execute_reply": "2024-07-16T16:03:38.239398Z"
    },
    "papermill": {
     "duration": 0.523963,
     "end_time": "2024-07-16T16:03:38.244029",
     "exception": false,
     "start_time": "2024-07-16T16:03:37.720066",
     "status": "completed"
    },
    "tags": []
   },
   "outputs": [],
   "source": [
    "import gc\n",
    "import time\n",
    "from dataclasses import dataclass\n",
    "from pathlib import Path\n",
    "from typing import Dict\n",
    "\n",
    "import ipywidgets as widgets\n",
    "import numpy as np\n",
    "import polars as pl\n",
    "import rich\n",
    "from pooch import DOIDownloader\n",
    "from rbo import rbo\n",
    "from rich.table import Table\n",
    "from tqdm.notebook import tqdm\n",
    "\n",
    "import openskill\n",
    "from openskill.models import (\n",
    "    BradleyTerryFull,\n",
    "    BradleyTerryPart,\n",
    "    PlackettLuce,\n",
    "    ThurstoneMostellerFull,\n",
    "    ThurstoneMostellerPart,\n",
    ")"
   ]
  },
  {
   "cell_type": "markdown",
   "id": "687951ec",
   "metadata": {
    "papermill": {
     "duration": 0.012476,
     "end_time": "2024-07-16T16:03:38.270951",
     "exception": false,
     "start_time": "2024-07-16T16:03:38.258475",
     "status": "completed"
    },
    "tags": []
   },
   "source": [
    "## Check OpenSkill Version"
   ]
  },
  {
   "cell_type": "code",
   "execution_count": 3,
   "id": "8751a150",
   "metadata": {
    "execution": {
     "iopub.execute_input": "2024-07-16T16:03:38.299729Z",
     "iopub.status.busy": "2024-07-16T16:03:38.299114Z",
     "iopub.status.idle": "2024-07-16T16:03:38.306295Z",
     "shell.execute_reply": "2024-07-16T16:03:38.304727Z"
    },
    "papermill": {
     "duration": 0.024739,
     "end_time": "2024-07-16T16:03:38.308797",
     "exception": false,
     "start_time": "2024-07-16T16:03:38.284058",
     "status": "completed"
    },
    "tags": []
   },
   "outputs": [
    {
     "name": "stdout",
     "output_type": "stream",
     "text": [
      "6.0.0\n"
     ]
    }
   ],
   "source": [
    "print(openskill.__version__)"
   ]
  },
  {
   "cell_type": "markdown",
   "id": "d51cc508",
   "metadata": {
    "papermill": {
     "duration": 0.013297,
     "end_time": "2024-07-16T16:03:38.336810",
     "exception": false,
     "start_time": "2024-07-16T16:03:38.323513",
     "status": "completed"
    },
    "tags": []
   },
   "source": [
    "## Download Data\n",
    "The data we need is not available, yet. So let's download it.\n",
    "It's available [here](https://zenodo.org/records/10342317).\n"
   ]
  },
  {
   "cell_type": "code",
   "execution_count": 4,
   "id": "21e42545",
   "metadata": {
    "collapsed": false,
    "execution": {
     "iopub.execute_input": "2024-07-16T16:03:38.368569Z",
     "iopub.status.busy": "2024-07-16T16:03:38.367747Z",
     "iopub.status.idle": "2024-07-16T16:05:36.594111Z",
     "shell.execute_reply": "2024-07-16T16:05:36.592784Z"
    },
    "jupyter": {
     "outputs_hidden": false
    },
    "papermill": {
     "duration": 118.246349,
     "end_time": "2024-07-16T16:05:36.596867",
     "exception": false,
     "start_time": "2024-07-16T16:03:38.350518",
     "status": "completed"
    },
    "tags": []
   },
   "outputs": [
    {
     "name": "stderr",
     "output_type": "stream",
     "text": [
      "100%|█████████████████████████████████████| 1.64G/1.64G [00:00<00:00, 1.34TB/s]\n",
      "100%|████████████████████████████████████████| 369M/369M [00:00<00:00, 305GB/s]\n"
     ]
    }
   ],
   "source": [
    "downloader = DOIDownloader(progressbar=True)\n",
    "\n",
    "working_directory = Path.cwd()\n",
    "data_directory = Path(working_directory / Path(\"data\"))\n",
    "data_directory.mkdir(exist_ok=True)\n",
    "downloader(\n",
    "    url=\"doi:10.5281/zenodo.10342317/train.parquet\",\n",
    "    output_file=data_directory / \"train.parquet\",\n",
    "    pooch=None,\n",
    ")\n",
    "time.sleep(3)\n",
    "downloader(\n",
    "    url=\"doi:10.5281/zenodo.10342317/test.parquet\",\n",
    "    output_file=data_directory / \"test.parquet\",\n",
    "    pooch=None,\n",
    ")"
   ]
  },
  {
   "cell_type": "markdown",
   "id": "5198087c",
   "metadata": {
    "papermill": {
     "duration": 0.084597,
     "end_time": "2024-07-16T16:05:36.766908",
     "exception": false,
     "start_time": "2024-07-16T16:05:36.682311",
     "status": "completed"
    },
    "tags": []
   },
   "source": [
    "## Define Data Containers\n",
    "We need to define some data container classes. We shall use dataclasses for this purpose with slots enabled."
   ]
  },
  {
   "cell_type": "code",
   "execution_count": 5,
   "id": "ecd77be9",
   "metadata": {
    "execution": {
     "iopub.execute_input": "2024-07-16T16:05:36.939137Z",
     "iopub.status.busy": "2024-07-16T16:05:36.938733Z",
     "iopub.status.idle": "2024-07-16T16:05:36.948247Z",
     "shell.execute_reply": "2024-07-16T16:05:36.947024Z"
    },
    "papermill": {
     "duration": 0.098548,
     "end_time": "2024-07-16T16:05:36.950724",
     "exception": false,
     "start_time": "2024-07-16T16:05:36.852176",
     "status": "completed"
    },
    "tags": []
   },
   "outputs": [],
   "source": [
    "@dataclass(slots=True)\n",
    "class Player:\n",
    "    name: str\n",
    "    kill_ratio: float\n",
    "    assist_ratio: float\n",
    "\n",
    "\n",
    "@dataclass(slots=True)\n",
    "class Team:\n",
    "    id: int\n",
    "    match_id: str\n",
    "    rank: int\n",
    "    players: Dict[str, Player]\n",
    "\n",
    "\n",
    "@dataclass(slots=True)\n",
    "class Match:\n",
    "    id: str\n",
    "    teams: Dict[int, Team]"
   ]
  },
  {
   "cell_type": "markdown",
   "id": "01de503b",
   "metadata": {
    "papermill": {
     "duration": 0.153657,
     "end_time": "2024-07-16T16:05:37.191428",
     "exception": false,
     "start_time": "2024-07-16T16:05:37.037771",
     "status": "completed"
    },
    "tags": []
   },
   "source": [
    "## Select Model\n",
    "OpenSkill comes with 5 models. Let's pick one for this benchmark."
   ]
  },
  {
   "cell_type": "code",
   "execution_count": 6,
   "id": "ab679782",
   "metadata": {
    "execution": {
     "iopub.execute_input": "2024-07-16T16:05:37.381620Z",
     "iopub.status.busy": "2024-07-16T16:05:37.381209Z",
     "iopub.status.idle": "2024-07-16T16:05:37.395944Z",
     "shell.execute_reply": "2024-07-16T16:05:37.394125Z"
    },
    "papermill": {
     "duration": 0.123065,
     "end_time": "2024-07-16T16:05:37.399840",
     "exception": false,
     "start_time": "2024-07-16T16:05:37.276775",
     "status": "completed"
    },
    "tags": []
   },
   "outputs": [
    {
     "data": {
      "application/vnd.jupyter.widget-view+json": {
       "model_id": "f885754289b14382a168303e13502d90",
       "version_major": 2,
       "version_minor": 0
      },
      "text/plain": [
       "Select(description='Model:', index=2, options=('BradleyTerryFull', 'BradleyTerryPart', 'PlackettLuce', 'Thurst…"
      ]
     },
     "metadata": {},
     "output_type": "display_data"
    }
   ],
   "source": [
    "models = [\n",
    "    BradleyTerryFull,\n",
    "    BradleyTerryPart,\n",
    "    PlackettLuce,\n",
    "    ThurstoneMostellerFull,\n",
    "    ThurstoneMostellerPart,\n",
    "]\n",
    "\n",
    "widget = widgets.Select(\n",
    "    options=[m.__name__ for m in models],\n",
    "    value=PlackettLuce.__name__,\n",
    "    description=\"Model:\",\n",
    "    disabled=False,\n",
    ")\n",
    "display(widget)"
   ]
  },
  {
   "cell_type": "markdown",
   "id": "f3322fad",
   "metadata": {
    "papermill": {
     "duration": 0.105515,
     "end_time": "2024-07-16T16:05:37.613654",
     "exception": false,
     "start_time": "2024-07-16T16:05:37.508139",
     "status": "completed"
    },
    "tags": []
   },
   "source": [
    "## Initialize Model\n",
    "Let's call the constructor on the model."
   ]
  },
  {
   "cell_type": "code",
   "execution_count": 7,
   "id": "cdc6f2cb",
   "metadata": {
    "execution": {
     "iopub.execute_input": "2024-07-16T16:05:37.800649Z",
     "iopub.status.busy": "2024-07-16T16:05:37.800232Z",
     "iopub.status.idle": "2024-07-16T16:05:37.807088Z",
     "shell.execute_reply": "2024-07-16T16:05:37.805980Z"
    },
    "papermill": {
     "duration": 0.105861,
     "end_time": "2024-07-16T16:05:37.810533",
     "exception": false,
     "start_time": "2024-07-16T16:05:37.704672",
     "status": "completed"
    },
    "tags": []
   },
   "outputs": [
    {
     "name": "stdout",
     "output_type": "stream",
     "text": [
      "Plackett-Luce Model Parameters: \n",
      "\n",
      "mu: 25.0\n",
      "sigma: 8.333333333333334\n",
      "\n"
     ]
    }
   ],
   "source": [
    "widget.close()\n",
    "m = widget.value\n",
    "m = eval(m)\n",
    "model = m(balance=True)\n",
    "print(str(model))"
   ]
  },
  {
   "cell_type": "markdown",
   "id": "c5b1455b",
   "metadata": {
    "papermill": {
     "duration": 0.094079,
     "end_time": "2024-07-16T16:05:38.002093",
     "exception": false,
     "start_time": "2024-07-16T16:05:37.908014",
     "status": "completed"
    },
    "tags": []
   },
   "source": [
    "## Load Data\n",
    "We are going to use the Polars library to lazily scan the parquet files."
   ]
  },
  {
   "cell_type": "code",
   "execution_count": 8,
   "id": "05af6095",
   "metadata": {
    "execution": {
     "iopub.execute_input": "2024-07-16T16:05:38.182153Z",
     "iopub.status.busy": "2024-07-16T16:05:38.180736Z",
     "iopub.status.idle": "2024-07-16T16:05:55.607806Z",
     "shell.execute_reply": "2024-07-16T16:05:55.606513Z"
    },
    "papermill": {
     "duration": 17.518738,
     "end_time": "2024-07-16T16:05:55.610574",
     "exception": false,
     "start_time": "2024-07-16T16:05:38.091836",
     "status": "completed"
    },
    "tags": []
   },
   "outputs": [],
   "source": [
    "# Load Data\n",
    "train = pl.scan_parquet(data_directory / \"train.parquet\")\n",
    "test = pl.scan_parquet(data_directory / \"test.parquet\")\n",
    "train = train.collect(streaming=True)"
   ]
  },
  {
   "cell_type": "markdown",
   "id": "22c5a26c",
   "metadata": {
    "papermill": {
     "duration": 0.087699,
     "end_time": "2024-07-16T16:05:55.785936",
     "exception": false,
     "start_time": "2024-07-16T16:05:55.698237",
     "status": "completed"
    },
    "tags": []
   },
   "source": [
    "## Optimize Dataframe\n",
    "Let's change the data types to reduce memory usage."
   ]
  },
  {
   "cell_type": "code",
   "execution_count": 9,
   "id": "ca317f7f",
   "metadata": {
    "execution": {
     "iopub.execute_input": "2024-07-16T16:05:55.965041Z",
     "iopub.status.busy": "2024-07-16T16:05:55.964646Z",
     "iopub.status.idle": "2024-07-16T16:06:34.117347Z",
     "shell.execute_reply": "2024-07-16T16:06:34.116080Z"
    },
    "papermill": {
     "duration": 38.330529,
     "end_time": "2024-07-16T16:06:34.204157",
     "exception": false,
     "start_time": "2024-07-16T16:05:55.873628",
     "status": "completed"
    },
    "tags": []
   },
   "outputs": [
    {
     "name": "stdout",
     "output_type": "stream",
     "text": [
      "Memory usage of dataframe train is 11461.2 MB\n",
      "Memory usage of dataframe train became 3008.43 MB\n"
     ]
    }
   ],
   "source": [
    "def reduce_memory_usage_pl(df, name):\n",
    "    \"\"\"\n",
    "    Reduce memory usage by polars dataframe {df} with name {name} by changing its data types.\n",
    "    Original pandas version of this function:\n",
    "    https://www.kaggle.com/code/arjanso/reducing-dataframe-memory-size-by-65\n",
    "    \"\"\"\n",
    "    print(f\"Memory usage of dataframe {name} is {round(df.estimated_size('mb'), 2)} MB\")\n",
    "    Numeric_Int_types = [pl.Int8, pl.Int16, pl.Int32, pl.Int64]\n",
    "    Numeric_Float_types = [pl.Float32, pl.Float64]\n",
    "    for col in df.columns:\n",
    "        col_type = df[col].dtype\n",
    "        c_min = df[col].min()\n",
    "        c_max = df[col].max()\n",
    "        if col_type in Numeric_Int_types:\n",
    "            if c_min > np.iinfo(np.int8).min and c_max < np.iinfo(np.int8).max:\n",
    "                df = df.with_columns(df[col].cast(pl.Int8))\n",
    "            elif c_min > np.iinfo(np.int16).min and c_max < np.iinfo(np.int16).max:\n",
    "                df = df.with_columns(df[col].cast(pl.Int16))\n",
    "            elif c_min > np.iinfo(np.int32).min and c_max < np.iinfo(np.int32).max:\n",
    "                df = df.with_columns(df[col].cast(pl.Int32))\n",
    "            elif c_min > np.iinfo(np.int64).min and c_max < np.iinfo(np.int64).max:\n",
    "                df = df.with_columns(df[col].cast(pl.Int64))\n",
    "        elif col_type in Numeric_Float_types:\n",
    "            if c_min > np.finfo(np.float32).min and c_max < np.finfo(np.float32).max:\n",
    "                df = df.with_columns(df[col].cast(pl.Float32))\n",
    "            else:\n",
    "                pass\n",
    "        elif col_type == pl.Utf8:\n",
    "            df = df.with_columns(df[col].cast(pl.Categorical))\n",
    "        else:\n",
    "            pass\n",
    "    print(\n",
    "        f\"Memory usage of dataframe {name} became {round(df.estimated_size('mb'), 2)} MB\"\n",
    "    )\n",
    "    return df\n",
    "\n",
    "\n",
    "# Reduce Memory Usage\n",
    "train = reduce_memory_usage_pl(train, \"train\")\n",
    "_ = gc.collect()"
   ]
  },
  {
   "cell_type": "markdown",
   "id": "feca2448",
   "metadata": {
    "papermill": {
     "duration": 0.086914,
     "end_time": "2024-07-16T16:06:34.378901",
     "exception": false,
     "start_time": "2024-07-16T16:06:34.291987",
     "status": "completed"
    },
    "tags": []
   },
   "source": [
    "Let's also hold all rating data in a single variable:"
   ]
  },
  {
   "cell_type": "code",
   "execution_count": 10,
   "id": "f361e751",
   "metadata": {
    "execution": {
     "iopub.execute_input": "2024-07-16T16:06:34.559000Z",
     "iopub.status.busy": "2024-07-16T16:06:34.558537Z",
     "iopub.status.idle": "2024-07-16T16:06:34.563516Z",
     "shell.execute_reply": "2024-07-16T16:06:34.562323Z"
    },
    "papermill": {
     "duration": 0.096913,
     "end_time": "2024-07-16T16:06:34.566264",
     "exception": false,
     "start_time": "2024-07-16T16:06:34.469351",
     "status": "completed"
    },
    "tags": []
   },
   "outputs": [],
   "source": [
    "# Data Container\n",
    "openskill_players = {}"
   ]
  },
  {
   "cell_type": "markdown",
   "id": "024e73b9",
   "metadata": {
    "papermill": {
     "duration": 0.086867,
     "end_time": "2024-07-16T16:06:34.741444",
     "exception": false,
     "start_time": "2024-07-16T16:06:34.654577",
     "status": "completed"
    },
    "tags": []
   },
   "source": [
    "## Parse Data for Training Set\n",
    "Let's now parse the training data and put it into our dataclasses."
   ]
  },
  {
   "cell_type": "code",
   "execution_count": 11,
   "id": "72387d51",
   "metadata": {
    "execution": {
     "iopub.execute_input": "2024-07-16T16:06:34.917156Z",
     "iopub.status.busy": "2024-07-16T16:06:34.916728Z",
     "iopub.status.idle": "2024-07-16T16:20:48.975536Z",
     "shell.execute_reply": "2024-07-16T16:20:48.974312Z"
    },
    "papermill": {
     "duration": 854.151151,
     "end_time": "2024-07-16T16:20:48.979038",
     "exception": false,
     "start_time": "2024-07-16T16:06:34.827887",
     "status": "completed"
    },
    "tags": []
   },
   "outputs": [
    {
     "name": "stdout",
     "output_type": "stream",
     "text": [
      "Loading Raw Data from Training Set into Memory\n",
      "Parsing Training Data:\n"
     ]
    },
    {
     "data": {
      "application/vnd.jupyter.widget-view+json": {
       "model_id": "dfc6e9ed62924eca98df05d170da8667",
       "version_major": 2,
       "version_minor": 0
      },
      "text/plain": [
       "  0%|          | 0/51704546 [00:00<?, ?it/s]"
      ]
     },
     "metadata": {},
     "output_type": "display_data"
    },
    {
     "name": "stdout",
     "output_type": "stream",
     "text": [
      "Parsed 583975 Training Matches\n"
     ]
    },
    {
     "data": {
      "text/plain": [
       "0"
      ]
     },
     "execution_count": 11,
     "metadata": {},
     "output_type": "execute_result"
    }
   ],
   "source": [
    "print(\"Loading Raw Data from Training Set into Memory\")\n",
    "\n",
    "# Parse Training Data\n",
    "print(\"Parsing Training Data:\")\n",
    "\n",
    "# Get Unique Matches for Training\n",
    "train_size = len(train)\n",
    "\n",
    "# Create a Progress Bar\n",
    "t = tqdm(total=train_size)\n",
    "\n",
    "# Training Data\n",
    "train_matches: Dict[str, Match] = {}\n",
    "\n",
    "for raw_player in train.iter_rows(named=True):\n",
    "    player = Player(\n",
    "        name=raw_player[\"player_name\"],\n",
    "        kill_ratio=raw_player[\"kill_ratio\"],\n",
    "        assist_ratio=raw_player[\"assist_ratio\"],\n",
    "    )\n",
    "\n",
    "    match_id = raw_player[\"match_id\"]\n",
    "    team_id = raw_player[\"team_id\"]\n",
    "    if match_id not in train_matches:\n",
    "        team = Team(\n",
    "            id=raw_player[\"team_id\"],\n",
    "            match_id=raw_player[\"match_id\"],\n",
    "            rank=raw_player[\"team_placement\"],\n",
    "            players={player.name: player},\n",
    "        )\n",
    "\n",
    "        match = Match(id=raw_player[\"match_id\"], teams={team.id: team})\n",
    "    else:\n",
    "        if team_id not in train_matches[match_id].teams:\n",
    "            match = train_matches[match_id]\n",
    "            team = Team(\n",
    "                id=raw_player[\"team_id\"],\n",
    "                match_id=raw_player[\"match_id\"],\n",
    "                rank=raw_player[\"team_placement\"],\n",
    "                players={player.name: player},\n",
    "            )\n",
    "            match.teams[team_id] = team\n",
    "        else:\n",
    "            match = train_matches[match_id]\n",
    "            match.teams[team_id].players[player.name] = player\n",
    "\n",
    "    train_matches[match_id] = match\n",
    "    t.update(1)\n",
    "\n",
    "print(f\"Parsed {len(train_matches)} Training Matches\")\n",
    "gc.collect()"
   ]
  },
  {
   "cell_type": "markdown",
   "id": "d76452dc",
   "metadata": {
    "papermill": {
     "duration": 0.087207,
     "end_time": "2024-07-16T16:20:49.154908",
     "exception": false,
     "start_time": "2024-07-16T16:20:49.067701",
     "status": "completed"
    },
    "tags": []
   },
   "source": [
    "## Intialize OpenSkill Ratings for Train Set\n",
    "Next let's use the ``model.rating`` method to create new rating objects for each player in the training set."
   ]
  },
  {
   "cell_type": "code",
   "execution_count": 12,
   "id": "41ff7816",
   "metadata": {
    "execution": {
     "iopub.execute_input": "2024-07-16T16:20:49.332593Z",
     "iopub.status.busy": "2024-07-16T16:20:49.332178Z",
     "iopub.status.idle": "2024-07-16T17:31:13.923739Z",
     "shell.execute_reply": "2024-07-16T17:31:13.921611Z"
    },
    "papermill": {
     "duration": 4224.77103,
     "end_time": "2024-07-16T17:31:14.015168",
     "exception": false,
     "start_time": "2024-07-16T16:20:49.244138",
     "status": "completed"
    },
    "tags": []
   },
   "outputs": [
    {
     "name": "stdout",
     "output_type": "stream",
     "text": [
      "Initializing Players for Training Set:\n"
     ]
    },
    {
     "data": {
      "application/vnd.jupyter.widget-view+json": {
       "model_id": "4a47ecad2ff14e5cb58db3720f055715",
       "version_major": 2,
       "version_minor": 0
      },
      "text/plain": [
       "  0%|          | 0/51704546 [00:00<?, ?it/s]"
      ]
     },
     "metadata": {},
     "output_type": "display_data"
    },
    {
     "name": "stdout",
     "output_type": "stream",
     "text": [
      "Rate Training Matches:\n"
     ]
    },
    {
     "data": {
      "application/vnd.jupyter.widget-view+json": {
       "model_id": "6eb3fa3d7ca84770ab2d24b2f6a694f0",
       "version_major": 2,
       "version_minor": 0
      },
      "text/plain": [
       "  0%|          | 0/583975 [00:00<?, ?it/s]"
      ]
     },
     "metadata": {},
     "output_type": "display_data"
    },
    {
     "data": {
      "text/plain": [
       "19"
      ]
     },
     "execution_count": 12,
     "metadata": {},
     "output_type": "execute_result"
    }
   ],
   "source": [
    "# Initialize OpenSkill Players for Training\n",
    "print(\"Initializing Players for Training Set:\")\n",
    "\n",
    "# Create a Progress Bar\n",
    "t = tqdm(total=train_size)\n",
    "\n",
    "for match_id, match in train_matches.items():\n",
    "    for team_id, team in match.teams.items():\n",
    "        for player_name, player in team.players.items():\n",
    "            player_rating = model.rating(name=player_name)\n",
    "            openskill_players[player_name] = player_rating\n",
    "            t.update(1)\n",
    "\n",
    "# Rate OpenSkill Players for Training\n",
    "print(\"Rate Training Matches:\")\n",
    "t = tqdm(total=len(train_matches))\n",
    "\n",
    "for match_id, match in train_matches.items():\n",
    "    teams_to_rate = []\n",
    "    ranks = []\n",
    "    for team_id, team in match.teams.items():\n",
    "        teams = []\n",
    "        ranks.append(team.rank)\n",
    "        for player_name, player in team.players.items():\n",
    "            player_rating = openskill_players[player_name]\n",
    "            teams.append(player_rating)\n",
    "        teams_to_rate.append(teams)\n",
    "\n",
    "    if len(teams_to_rate) > 1:\n",
    "        rated_teams = model.rate(teams=teams_to_rate, ranks=ranks)\n",
    "\n",
    "        for team in rated_teams:\n",
    "            for player in team:\n",
    "                openskill_players[player.name] = player\n",
    "    t.update(1)\n",
    "gc.collect()"
   ]
  },
  {
   "cell_type": "markdown",
   "id": "80397926",
   "metadata": {
    "papermill": {
     "duration": 0.08751,
     "end_time": "2024-07-16T17:31:14.189402",
     "exception": false,
     "start_time": "2024-07-16T17:31:14.101892",
     "status": "completed"
    },
    "tags": []
   },
   "source": [
    "## Clear Memory\n",
    "Let's delete some variables so we can save some memory and load the test set."
   ]
  },
  {
   "cell_type": "code",
   "execution_count": 13,
   "id": "e6438ef7",
   "metadata": {
    "execution": {
     "iopub.execute_input": "2024-07-16T17:31:14.367112Z",
     "iopub.status.busy": "2024-07-16T17:31:14.366674Z",
     "iopub.status.idle": "2024-07-16T17:31:55.898238Z",
     "shell.execute_reply": "2024-07-16T17:31:55.897049Z"
    },
    "papermill": {
     "duration": 41.711945,
     "end_time": "2024-07-16T17:31:55.988683",
     "exception": false,
     "start_time": "2024-07-16T17:31:14.276738",
     "status": "completed"
    },
    "tags": []
   },
   "outputs": [
    {
     "name": "stdout",
     "output_type": "stream",
     "text": [
      "Memory usage of dataframe test is 2546.47 MB\n",
      "Memory usage of dataframe test became 668.96 MB\n"
     ]
    },
    {
     "data": {
      "text/plain": [
       "0"
      ]
     },
     "execution_count": 13,
     "metadata": {},
     "output_type": "execute_result"
    }
   ],
   "source": [
    "del train\n",
    "del train_matches\n",
    "gc.collect()\n",
    "\n",
    "test = test.collect(streaming=True)\n",
    "test = reduce_memory_usage_pl(test, \"test\")\n",
    "gc.collect()"
   ]
  },
  {
   "cell_type": "markdown",
   "id": "7a201428",
   "metadata": {
    "papermill": {
     "duration": 0.165062,
     "end_time": "2024-07-16T17:31:56.241841",
     "exception": false,
     "start_time": "2024-07-16T17:31:56.076779",
     "status": "completed"
    },
    "tags": []
   },
   "source": [
    "## Parsing Test Set\n",
    "Now let's do the same thing for the test set and grab the matches."
   ]
  },
  {
   "cell_type": "code",
   "execution_count": 14,
   "id": "87c21839",
   "metadata": {
    "execution": {
     "iopub.execute_input": "2024-07-16T17:31:56.418948Z",
     "iopub.status.busy": "2024-07-16T17:31:56.418511Z",
     "iopub.status.idle": "2024-07-16T17:35:21.396491Z",
     "shell.execute_reply": "2024-07-16T17:35:21.395248Z"
    },
    "papermill": {
     "duration": 205.07089,
     "end_time": "2024-07-16T17:35:21.399354",
     "exception": false,
     "start_time": "2024-07-16T17:31:56.328464",
     "status": "completed"
    },
    "tags": []
   },
   "outputs": [
    {
     "name": "stdout",
     "output_type": "stream",
     "text": [
      "Loading Raw Data from Test Set into Memory\n",
      "Parsing Test Data:\n"
     ]
    },
    {
     "data": {
      "application/vnd.jupyter.widget-view+json": {
       "model_id": "305ccbefd4f14044a52c251c00913cdd",
       "version_major": 2,
       "version_minor": 0
      },
      "text/plain": [
       "  0%|          | 0/11487236 [00:00<?, ?it/s]"
      ]
     },
     "metadata": {},
     "output_type": "display_data"
    }
   ],
   "source": [
    "# Get Unique Matches for Testing\n",
    "print(\"Loading Raw Data from Test Set into Memory\")\n",
    "\n",
    "test_size = len(test)\n",
    "\n",
    "# Parse Data\n",
    "print(\"Parsing Test Data:\")\n",
    "\n",
    "t = tqdm(total=test_size)\n",
    "\n",
    "# Test Data\n",
    "test_matches: Dict[str, Match] = {}\n",
    "\n",
    "for raw_player in test.iter_rows(named=True):\n",
    "    player = Player(\n",
    "        name=raw_player[\"player_name\"],\n",
    "        kill_ratio=raw_player[\"kill_ratio\"],\n",
    "        assist_ratio=raw_player[\"assist_ratio\"],\n",
    "    )\n",
    "\n",
    "    match_id = raw_player[\"match_id\"]\n",
    "    team_id = raw_player[\"team_id\"]\n",
    "    if match_id not in test_matches:\n",
    "        team = Team(\n",
    "            id=raw_player[\"team_id\"],\n",
    "            match_id=raw_player[\"match_id\"],\n",
    "            rank=raw_player[\"team_placement\"],\n",
    "            players={player.name: player},\n",
    "        )\n",
    "\n",
    "        match = Match(id=raw_player[\"match_id\"], teams={team.id: team})\n",
    "    else:\n",
    "        if team_id not in test_matches[match_id].teams:\n",
    "            match = test_matches[match_id]\n",
    "            team = Team(\n",
    "                id=raw_player[\"team_id\"],\n",
    "                match_id=raw_player[\"match_id\"],\n",
    "                rank=raw_player[\"team_placement\"],\n",
    "                players={player.name: player},\n",
    "            )\n",
    "            match.teams[team_id] = team\n",
    "        else:\n",
    "            match = test_matches[match_id]\n",
    "            match.teams[team_id].players[player.name] = player\n",
    "\n",
    "    test_matches[match_id] = match\n",
    "    t.update(1)"
   ]
  },
  {
   "cell_type": "markdown",
   "id": "26645679",
   "metadata": {
    "papermill": {
     "duration": 0.112486,
     "end_time": "2024-07-16T17:35:21.605313",
     "exception": false,
     "start_time": "2024-07-16T17:35:21.492827",
     "status": "completed"
    },
    "tags": []
   },
   "source": [
    "## Predict Test Set\n",
    "Let's use the data we trained on to try and predict the test set."
   ]
  },
  {
   "cell_type": "code",
   "execution_count": 15,
   "id": "36267dba",
   "metadata": {
    "execution": {
     "iopub.execute_input": "2024-07-16T17:35:21.789027Z",
     "iopub.status.busy": "2024-07-16T17:35:21.788565Z",
     "iopub.status.idle": "2024-07-16T17:50:13.467775Z",
     "shell.execute_reply": "2024-07-16T17:50:13.466132Z"
    },
    "papermill": {
     "duration": 891.775485,
     "end_time": "2024-07-16T17:50:13.471280",
     "exception": false,
     "start_time": "2024-07-16T17:35:21.695795",
     "status": "completed"
    },
    "tags": []
   },
   "outputs": [
    {
     "name": "stdout",
     "output_type": "stream",
     "text": [
      "Predict Matches in Test Set using OpenSkill:\n"
     ]
    },
    {
     "data": {
      "application/vnd.jupyter.widget-view+json": {
       "model_id": "e45c8708a08446d48939b5ace8a5442e",
       "version_major": 2,
       "version_minor": 0
      },
      "text/plain": [
       "  0%|          | 0/145994 [00:00<?, ?it/s]"
      ]
     },
     "metadata": {},
     "output_type": "display_data"
    }
   ],
   "source": [
    "# Predict OpenSkill Matches\n",
    "print(\"Predict Matches in Test Set using OpenSkill:\")\n",
    "t = tqdm(total=len(test_matches))\n",
    "\n",
    "# Accuracy Trackers\n",
    "rbo_scores = []\n",
    "openskill_correct_predictions = 0\n",
    "openskill_incorrect_predictions = 0\n",
    "\n",
    "for match_id, match in test_matches.items():\n",
    "    teams_to_predict = []\n",
    "    actual_ranks = []\n",
    "    for team_id, team in match.teams.items():\n",
    "        teams = []\n",
    "        actual_ranks.append(team.rank)\n",
    "        for player_name, player in team.players.items():\n",
    "            if player_name in openskill_players:\n",
    "                player_rating = openskill_players[player_name]\n",
    "            else:\n",
    "                player_rating = model.rating(name=player_name)\n",
    "            teams.append(player_rating)\n",
    "        teams_to_predict.append(teams)\n",
    "\n",
    "    if len(teams_to_predict) > 1:\n",
    "        actual_ranks = {_[0]: _[1] for _ in zip(actual_ranks, teams_to_predict)}\n",
    "        predictions = [_[0] for _ in model.predict_rank(teams_to_predict)]\n",
    "        expected_ranks = {_[0]: _[1] for _ in zip(predictions, teams_to_predict)}\n",
    "\n",
    "        try:\n",
    "            actual_ranks = dict(\n",
    "                sorted(\n",
    "                    actual_ranks.items(),\n",
    "                    key=lambda x: [*expected_ranks.values()].index(x[1]),\n",
    "                )\n",
    "            )\n",
    "\n",
    "            ar_index = next(iter(actual_ranks))\n",
    "            er_index = next(iter(expected_ranks))\n",
    "\n",
    "            similarity = rbo.RankingSimilarity(\n",
    "                list(actual_ranks.keys()), list(expected_ranks.keys())\n",
    "            ).rbo_ext()\n",
    "            rbo_scores.append(similarity)\n",
    "\n",
    "            if actual_ranks[ar_index] == expected_ranks[er_index]:\n",
    "                openskill_correct_predictions += 1\n",
    "            else:\n",
    "                openskill_incorrect_predictions += 1\n",
    "        except ValueError:\n",
    "            pass\n",
    "    t.update(1)"
   ]
  },
  {
   "cell_type": "markdown",
   "id": "6701873c",
   "metadata": {
    "papermill": {
     "duration": 0.090362,
     "end_time": "2024-07-16T17:50:13.655768",
     "exception": false,
     "start_time": "2024-07-16T17:50:13.565406",
     "status": "completed"
    },
    "tags": []
   },
   "source": [
    "## Results\n",
    "Let's print out the result and interpret it."
   ]
  },
  {
   "cell_type": "code",
   "execution_count": 16,
   "id": "886766d6",
   "metadata": {
    "execution": {
     "iopub.execute_input": "2024-07-16T17:50:13.842171Z",
     "iopub.status.busy": "2024-07-16T17:50:13.841715Z",
     "iopub.status.idle": "2024-07-16T17:50:13.939833Z",
     "shell.execute_reply": "2024-07-16T17:50:13.938651Z"
    },
    "papermill": {
     "duration": 0.197922,
     "end_time": "2024-07-16T17:50:13.945598",
     "exception": false,
     "start_time": "2024-07-16T17:50:13.747676",
     "status": "completed"
    },
    "tags": []
   },
   "outputs": [
    {
     "data": {
      "text/html": [
       "<pre style=\"white-space:pre;overflow-x:auto;line-height:normal;font-family:Menlo,'DejaVu Sans Mono',consolas,'Courier New',monospace\"><span style=\"font-style: italic\">                   Benchmark Results                    </span>\n",
       "┏━━━━━━━━━━━━━━━━━━━━━━━━━━━━━┳━━━━━━━━━━━━━━━━━━━━━━━━┓\n",
       "┃<span style=\"font-weight: bold\">                 Information </span>┃<span style=\"font-weight: bold\"> Value                  </span>┃\n",
       "┡━━━━━━━━━━━━━━━━━━━━━━━━━━━━━╇━━━━━━━━━━━━━━━━━━━━━━━━┩\n",
       "│<span style=\"color: #008080; text-decoration-color: #008080\">           Available Matches </span>│<span style=\"color: #800080; text-decoration-color: #800080\"> 145994                 </span>│\n",
       "│<span style=\"color: #008080; text-decoration-color: #008080\">       PlackettLuce Accuracy </span>│<span style=\"color: #800080; text-decoration-color: #800080\"> 134323/11671 [ 92.01%] </span>│\n",
       "│<span style=\"color: #008080; text-decoration-color: #008080\">  Rank-Biased Overlap Score: </span>│<span style=\"color: #800080; text-decoration-color: #800080\">  64.46                 </span>│\n",
       "└─────────────────────────────┴────────────────────────┘\n",
       "</pre>\n"
      ],
      "text/plain": [
       "\u001B[3m                   Benchmark Results                    \u001B[0m\n",
       "┏━━━━━━━━━━━━━━━━━━━━━━━━━━━━━┳━━━━━━━━━━━━━━━━━━━━━━━━┓\n",
       "┃\u001B[1m \u001B[0m\u001B[1m                Information\u001B[0m\u001B[1m \u001B[0m┃\u001B[1m \u001B[0m\u001B[1mValue                 \u001B[0m\u001B[1m \u001B[0m┃\n",
       "┡━━━━━━━━━━━━━━━━━━━━━━━━━━━━━╇━━━━━━━━━━━━━━━━━━━━━━━━┩\n",
       "│\u001B[36m \u001B[0m\u001B[36m          Available Matches\u001B[0m\u001B[36m \u001B[0m│\u001B[35m \u001B[0m\u001B[35m145994                \u001B[0m\u001B[35m \u001B[0m│\n",
       "│\u001B[36m \u001B[0m\u001B[36m      PlackettLuce Accuracy\u001B[0m\u001B[36m \u001B[0m│\u001B[35m \u001B[0m\u001B[35m134323/11671 [ 92.01%]\u001B[0m\u001B[35m \u001B[0m│\n",
       "│\u001B[36m \u001B[0m\u001B[36m Rank-Biased Overlap Score:\u001B[0m\u001B[36m \u001B[0m│\u001B[35m \u001B[0m\u001B[35m 64.46                \u001B[0m\u001B[35m \u001B[0m│\n",
       "└─────────────────────────────┴────────────────────────┘\n"
      ]
     },
     "metadata": {},
     "output_type": "display_data"
    }
   ],
   "source": [
    "table = Table(title=\"Benchmark Results\")\n",
    "table.add_column(\"Information\", justify=\"right\", style=\"cyan\", no_wrap=True)\n",
    "table.add_column(\"Value\", style=\"magenta\")\n",
    "\n",
    "table.add_row(\"Available Matches\", f\"{len(test_matches)}\")\n",
    "\n",
    "openskill_accuracy = round(\n",
    "    (\n",
    "        openskill_correct_predictions\n",
    "        / (openskill_incorrect_predictions + openskill_correct_predictions)\n",
    "    )\n",
    "    * 100,\n",
    "    2,\n",
    ")\n",
    "\n",
    "table.add_row(\n",
    "    f\"{model.__class__.__name__} Accuracy\",\n",
    "    f\"{openskill_correct_predictions}/\"\n",
    "    f\"{openskill_incorrect_predictions} \"\n",
    "    f\"[{openskill_accuracy: .2f}%]\",\n",
    ")\n",
    "rbo_score = (sum(rbo_scores) / len(rbo_scores)) * 100\n",
    "table.add_row(\"Rank-Biased Overlap Score: \", f\"{rbo_score: .2f}\")\n",
    "rich.print(table)"
   ]
  }
 ],
 "metadata": {
  "kaggle": {
   "accelerator": "none",
   "dataSources": [
    {
     "datasetId": 3738480,
     "sourceId": 8960486,
     "sourceType": "datasetVersion"
    }
   ],
   "isGpuEnabled": false,
   "isInternetEnabled": true,
   "language": "python",
   "sourceType": "notebook"
  },
  "kernelspec": {
   "display_name": "Python 3",
   "language": "python",
   "name": "python3"
  },
  "language_info": {
   "codemirror_mode": {
    "name": "ipython",
    "version": 3
   },
   "file_extension": ".py",
   "mimetype": "text/x-python",
   "name": "python",
   "nbconvert_exporter": "python",
   "pygments_lexer": "ipython3",
   "version": "3.10.13"
  },
  "papermill": {
   "default_parameters": {},
   "duration": 6425.806708,
   "end_time": "2024-07-16T17:50:18.918440",
   "environment_variables": {},
   "exception": null,
   "input_path": "__notebook__.ipynb",
   "output_path": "__notebook__.ipynb",
   "parameters": {},
   "start_time": "2024-07-16T16:03:13.111732",
   "version": "2.5.0"
  },
  "widgets": {
   "application/vnd.jupyter.widget-state+json": {
    "state": {
     "05684acc3d6c4675b3b253416c99abe8": {
      "model_module": "@jupyter-widgets/base",
      "model_module_version": "2.0.0",
      "model_name": "LayoutModel",
      "state": {
       "_model_module": "@jupyter-widgets/base",
       "_model_module_version": "2.0.0",
       "_model_name": "LayoutModel",
       "_view_count": null,
       "_view_module": "@jupyter-widgets/base",
       "_view_module_version": "2.0.0",
       "_view_name": "LayoutView",
       "align_content": null,
       "align_items": null,
       "align_self": null,
       "border_bottom": null,
       "border_left": null,
       "border_right": null,
       "border_top": null,
       "bottom": null,
       "display": null,
       "flex": null,
       "flex_flow": null,
       "grid_area": null,
       "grid_auto_columns": null,
       "grid_auto_flow": null,
       "grid_auto_rows": null,
       "grid_column": null,
       "grid_gap": null,
       "grid_row": null,
       "grid_template_areas": null,
       "grid_template_columns": null,
       "grid_template_rows": null,
       "height": null,
       "justify_content": null,
       "justify_items": null,
       "left": null,
       "margin": null,
       "max_height": null,
       "max_width": null,
       "min_height": null,
       "min_width": null,
       "object_fit": null,
       "object_position": null,
       "order": null,
       "overflow": null,
       "padding": null,
       "right": null,
       "top": null,
       "visibility": null,
       "width": null
      }
     },
     "058c8e23e6de45c1841c599bad46d0b3": {
      "model_module": "@jupyter-widgets/controls",
      "model_module_version": "2.0.0",
      "model_name": "HTMLModel",
      "state": {
       "_dom_classes": [],
       "_model_module": "@jupyter-widgets/controls",
       "_model_module_version": "2.0.0",
       "_model_name": "HTMLModel",
       "_view_count": null,
       "_view_module": "@jupyter-widgets/controls",
       "_view_module_version": "2.0.0",
       "_view_name": "HTMLView",
       "description": "",
       "description_allow_html": false,
       "layout": "IPY_MODEL_d805abebcbd74b0fba5dd73d82d1e571",
       "placeholder": "​",
       "style": "IPY_MODEL_4b3b0739ce734987814f35912b5c94d1",
       "tabbable": null,
       "tooltip": null,
       "value": " 583975/583975 [55:37&lt;00:00, 176.55it/s]"
      }
     },
     "09ae000a729644219288ecbf6e30832c": {
      "model_module": "@jupyter-widgets/controls",
      "model_module_version": "2.0.0",
      "model_name": "HTMLStyleModel",
      "state": {
       "_model_module": "@jupyter-widgets/controls",
       "_model_module_version": "2.0.0",
       "_model_name": "HTMLStyleModel",
       "_view_count": null,
       "_view_module": "@jupyter-widgets/base",
       "_view_module_version": "2.0.0",
       "_view_name": "StyleView",
       "background": null,
       "description_width": "",
       "font_size": null,
       "text_color": null
      }
     },
     "0d1a94edd9e4441f800b85c272cd4174": {
      "model_module": "@jupyter-widgets/base",
      "model_module_version": "2.0.0",
      "model_name": "LayoutModel",
      "state": {
       "_model_module": "@jupyter-widgets/base",
       "_model_module_version": "2.0.0",
       "_model_name": "LayoutModel",
       "_view_count": null,
       "_view_module": "@jupyter-widgets/base",
       "_view_module_version": "2.0.0",
       "_view_name": "LayoutView",
       "align_content": null,
       "align_items": null,
       "align_self": null,
       "border_bottom": null,
       "border_left": null,
       "border_right": null,
       "border_top": null,
       "bottom": null,
       "display": null,
       "flex": null,
       "flex_flow": null,
       "grid_area": null,
       "grid_auto_columns": null,
       "grid_auto_flow": null,
       "grid_auto_rows": null,
       "grid_column": null,
       "grid_gap": null,
       "grid_row": null,
       "grid_template_areas": null,
       "grid_template_columns": null,
       "grid_template_rows": null,
       "height": null,
       "justify_content": null,
       "justify_items": null,
       "left": null,
       "margin": null,
       "max_height": null,
       "max_width": null,
       "min_height": null,
       "min_width": null,
       "object_fit": null,
       "object_position": null,
       "order": null,
       "overflow": null,
       "padding": null,
       "right": null,
       "top": null,
       "visibility": null,
       "width": null
      }
     },
     "11b77a2a597f459f89269ead8a7a3766": {
      "model_module": "@jupyter-widgets/controls",
      "model_module_version": "2.0.0",
      "model_name": "HTMLModel",
      "state": {
       "_dom_classes": [],
       "_model_module": "@jupyter-widgets/controls",
       "_model_module_version": "2.0.0",
       "_model_name": "HTMLModel",
       "_view_count": null,
       "_view_module": "@jupyter-widgets/controls",
       "_view_module_version": "2.0.0",
       "_view_name": "HTMLView",
       "description": "",
       "description_allow_html": false,
       "layout": "IPY_MODEL_ac0109f6f24342fcb98e83da6e45c24f",
       "placeholder": "​",
       "style": "IPY_MODEL_984775e2861d4276801cb2a820955228",
       "tabbable": null,
       "tooltip": null,
       "value": "100%"
      }
     },
     "166d09ae4cd2479fb7e7ce98f3408fba": {
      "model_module": "@jupyter-widgets/controls",
      "model_module_version": "2.0.0",
      "model_name": "HTMLStyleModel",
      "state": {
       "_model_module": "@jupyter-widgets/controls",
       "_model_module_version": "2.0.0",
       "_model_name": "HTMLStyleModel",
       "_view_count": null,
       "_view_module": "@jupyter-widgets/base",
       "_view_module_version": "2.0.0",
       "_view_name": "StyleView",
       "background": null,
       "description_width": "",
       "font_size": null,
       "text_color": null
      }
     },
     "1db01f8ac16845f28292d3ad0b259588": {
      "model_module": "@jupyter-widgets/controls",
      "model_module_version": "2.0.0",
      "model_name": "HTMLModel",
      "state": {
       "_dom_classes": [],
       "_model_module": "@jupyter-widgets/controls",
       "_model_module_version": "2.0.0",
       "_model_name": "HTMLModel",
       "_view_count": null,
       "_view_module": "@jupyter-widgets/controls",
       "_view_module_version": "2.0.0",
       "_view_name": "HTMLView",
       "description": "",
       "description_allow_html": false,
       "layout": "IPY_MODEL_d84b0152b5e04bbaa93e72e0206951d4",
       "placeholder": "​",
       "style": "IPY_MODEL_166d09ae4cd2479fb7e7ce98f3408fba",
       "tabbable": null,
       "tooltip": null,
       "value": "100%"
      }
     },
     "1ee1ba31555645e0a658d801299ecc07": {
      "model_module": "@jupyter-widgets/controls",
      "model_module_version": "2.0.0",
      "model_name": "FloatProgressModel",
      "state": {
       "_dom_classes": [],
       "_model_module": "@jupyter-widgets/controls",
       "_model_module_version": "2.0.0",
       "_model_name": "FloatProgressModel",
       "_view_count": null,
       "_view_module": "@jupyter-widgets/controls",
       "_view_module_version": "2.0.0",
       "_view_name": "ProgressView",
       "bar_style": "success",
       "description": "",
       "description_allow_html": false,
       "layout": "IPY_MODEL_0d1a94edd9e4441f800b85c272cd4174",
       "max": 5.1704546E7,
       "min": 0.0,
       "orientation": "horizontal",
       "style": "IPY_MODEL_c05b6b0fe0b14f8dba8c8532d5becad1",
       "tabbable": null,
       "tooltip": null,
       "value": 5.1704546E7
      }
     },
     "1fa24287923243499d42735aa608dff0": {
      "model_module": "@jupyter-widgets/controls",
      "model_module_version": "2.0.0",
      "model_name": "FloatProgressModel",
      "state": {
       "_dom_classes": [],
       "_model_module": "@jupyter-widgets/controls",
       "_model_module_version": "2.0.0",
       "_model_name": "FloatProgressModel",
       "_view_count": null,
       "_view_module": "@jupyter-widgets/controls",
       "_view_module_version": "2.0.0",
       "_view_name": "ProgressView",
       "bar_style": "success",
       "description": "",
       "description_allow_html": false,
       "layout": "IPY_MODEL_af951081b837467eb764ec5ff5ee8676",
       "max": 583975.0,
       "min": 0.0,
       "orientation": "horizontal",
       "style": "IPY_MODEL_872a0a6b02a749cfbd29d87a2dae3907",
       "tabbable": null,
       "tooltip": null,
       "value": 583975.0
      }
     },
     "2336e658ac8042008f90427001a8cb9a": {
      "model_module": "@jupyter-widgets/controls",
      "model_module_version": "2.0.0",
      "model_name": "HTMLStyleModel",
      "state": {
       "_model_module": "@jupyter-widgets/controls",
       "_model_module_version": "2.0.0",
       "_model_name": "HTMLStyleModel",
       "_view_count": null,
       "_view_module": "@jupyter-widgets/base",
       "_view_module_version": "2.0.0",
       "_view_name": "StyleView",
       "background": null,
       "description_width": "",
       "font_size": null,
       "text_color": null
      }
     },
     "29ce978fd7cf461582aac4859cd790d5": {
      "model_module": "@jupyter-widgets/controls",
      "model_module_version": "2.0.0",
      "model_name": "HTMLModel",
      "state": {
       "_dom_classes": [],
       "_model_module": "@jupyter-widgets/controls",
       "_model_module_version": "2.0.0",
       "_model_name": "HTMLModel",
       "_view_count": null,
       "_view_module": "@jupyter-widgets/controls",
       "_view_module_version": "2.0.0",
       "_view_name": "HTMLView",
       "description": "",
       "description_allow_html": false,
       "layout": "IPY_MODEL_5f0c0a94d111426d87ddb12b06155b7c",
       "placeholder": "​",
       "style": "IPY_MODEL_2336e658ac8042008f90427001a8cb9a",
       "tabbable": null,
       "tooltip": null,
       "value": "100%"
      }
     },
     "2acf86fd5e174767a82336bd0a28e088": {
      "model_module": "@jupyter-widgets/controls",
      "model_module_version": "2.0.0",
      "model_name": "FloatProgressModel",
      "state": {
       "_dom_classes": [],
       "_model_module": "@jupyter-widgets/controls",
       "_model_module_version": "2.0.0",
       "_model_name": "FloatProgressModel",
       "_view_count": null,
       "_view_module": "@jupyter-widgets/controls",
       "_view_module_version": "2.0.0",
       "_view_name": "ProgressView",
       "bar_style": "",
       "description": "",
       "description_allow_html": false,
       "layout": "IPY_MODEL_bdfb5a775ba04c458828718e6926edc7",
       "max": 145994.0,
       "min": 0.0,
       "orientation": "horizontal",
       "style": "IPY_MODEL_c4be2919bd0e4268b12084930e9ced9e",
       "tabbable": null,
       "tooltip": null,
       "value": 145983.0
      }
     },
     "305ccbefd4f14044a52c251c00913cdd": {
      "model_module": "@jupyter-widgets/controls",
      "model_module_version": "2.0.0",
      "model_name": "HBoxModel",
      "state": {
       "_dom_classes": [],
       "_model_module": "@jupyter-widgets/controls",
       "_model_module_version": "2.0.0",
       "_model_name": "HBoxModel",
       "_view_count": null,
       "_view_module": "@jupyter-widgets/controls",
       "_view_module_version": "2.0.0",
       "_view_name": "HBoxView",
       "box_style": "",
       "children": [
        "IPY_MODEL_32c432d01a254e5d9ff770d20699573d",
        "IPY_MODEL_6696944c8b7e4d59b3ac6bd73385cf73",
        "IPY_MODEL_f6ef9b5bd429435ea8e2c69b57207aeb"
       ],
       "layout": "IPY_MODEL_986fba8be82f4ee7a7522ce3ec114019",
       "tabbable": null,
       "tooltip": null
      }
     },
     "32c432d01a254e5d9ff770d20699573d": {
      "model_module": "@jupyter-widgets/controls",
      "model_module_version": "2.0.0",
      "model_name": "HTMLModel",
      "state": {
       "_dom_classes": [],
       "_model_module": "@jupyter-widgets/controls",
       "_model_module_version": "2.0.0",
       "_model_name": "HTMLModel",
       "_view_count": null,
       "_view_module": "@jupyter-widgets/controls",
       "_view_module_version": "2.0.0",
       "_view_name": "HTMLView",
       "description": "",
       "description_allow_html": false,
       "layout": "IPY_MODEL_b01972308cd84721a6ffeeef0d0aa0be",
       "placeholder": "​",
       "style": "IPY_MODEL_b32beca299414191aa4bb72935235af5",
       "tabbable": null,
       "tooltip": null,
       "value": "100%"
      }
     },
     "3769ebc44033487f85b212d1e1d38b20": {
      "model_module": "@jupyter-widgets/controls",
      "model_module_version": "2.0.0",
      "model_name": "HTMLStyleModel",
      "state": {
       "_model_module": "@jupyter-widgets/controls",
       "_model_module_version": "2.0.0",
       "_model_name": "HTMLStyleModel",
       "_view_count": null,
       "_view_module": "@jupyter-widgets/base",
       "_view_module_version": "2.0.0",
       "_view_name": "StyleView",
       "background": null,
       "description_width": "",
       "font_size": null,
       "text_color": null
      }
     },
     "3885025f998d438db913dc34571f3e63": {
      "model_module": "@jupyter-widgets/controls",
      "model_module_version": "2.0.0",
      "model_name": "HTMLStyleModel",
      "state": {
       "_model_module": "@jupyter-widgets/controls",
       "_model_module_version": "2.0.0",
       "_model_name": "HTMLStyleModel",
       "_view_count": null,
       "_view_module": "@jupyter-widgets/base",
       "_view_module_version": "2.0.0",
       "_view_name": "StyleView",
       "background": null,
       "description_width": "",
       "font_size": null,
       "text_color": null
      }
     },
     "3c4960caa50d49fcb240615b8c7ed70b": {
      "model_module": "@jupyter-widgets/controls",
      "model_module_version": "2.0.0",
      "model_name": "DescriptionStyleModel",
      "state": {
       "_model_module": "@jupyter-widgets/controls",
       "_model_module_version": "2.0.0",
       "_model_name": "DescriptionStyleModel",
       "_view_count": null,
       "_view_module": "@jupyter-widgets/base",
       "_view_module_version": "2.0.0",
       "_view_name": "StyleView",
       "description_width": ""
      }
     },
     "4a47ecad2ff14e5cb58db3720f055715": {
      "model_module": "@jupyter-widgets/controls",
      "model_module_version": "2.0.0",
      "model_name": "HBoxModel",
      "state": {
       "_dom_classes": [],
       "_model_module": "@jupyter-widgets/controls",
       "_model_module_version": "2.0.0",
       "_model_name": "HBoxModel",
       "_view_count": null,
       "_view_module": "@jupyter-widgets/controls",
       "_view_module_version": "2.0.0",
       "_view_name": "HBoxView",
       "box_style": "",
       "children": [
        "IPY_MODEL_29ce978fd7cf461582aac4859cd790d5",
        "IPY_MODEL_bcde824c69b745278c667512ffea9453",
        "IPY_MODEL_745bd731db15493b94afcb25781cdce3"
       ],
       "layout": "IPY_MODEL_7e2286be25f945bdbc96050404e05610",
       "tabbable": null,
       "tooltip": null
      }
     },
     "4b3b0739ce734987814f35912b5c94d1": {
      "model_module": "@jupyter-widgets/controls",
      "model_module_version": "2.0.0",
      "model_name": "HTMLStyleModel",
      "state": {
       "_model_module": "@jupyter-widgets/controls",
       "_model_module_version": "2.0.0",
       "_model_name": "HTMLStyleModel",
       "_view_count": null,
       "_view_module": "@jupyter-widgets/base",
       "_view_module_version": "2.0.0",
       "_view_name": "StyleView",
       "background": null,
       "description_width": "",
       "font_size": null,
       "text_color": null
      }
     },
     "5158f437f7d047bbaa6a13a1095abc5d": {
      "model_module": "@jupyter-widgets/base",
      "model_module_version": "2.0.0",
      "model_name": "LayoutModel",
      "state": {
       "_model_module": "@jupyter-widgets/base",
       "_model_module_version": "2.0.0",
       "_model_name": "LayoutModel",
       "_view_count": null,
       "_view_module": "@jupyter-widgets/base",
       "_view_module_version": "2.0.0",
       "_view_name": "LayoutView",
       "align_content": null,
       "align_items": null,
       "align_self": null,
       "border_bottom": null,
       "border_left": null,
       "border_right": null,
       "border_top": null,
       "bottom": null,
       "display": null,
       "flex": null,
       "flex_flow": null,
       "grid_area": null,
       "grid_auto_columns": null,
       "grid_auto_flow": null,
       "grid_auto_rows": null,
       "grid_column": null,
       "grid_gap": null,
       "grid_row": null,
       "grid_template_areas": null,
       "grid_template_columns": null,
       "grid_template_rows": null,
       "height": null,
       "justify_content": null,
       "justify_items": null,
       "left": null,
       "margin": null,
       "max_height": null,
       "max_width": null,
       "min_height": null,
       "min_width": null,
       "object_fit": null,
       "object_position": null,
       "order": null,
       "overflow": null,
       "padding": null,
       "right": null,
       "top": null,
       "visibility": null,
       "width": null
      }
     },
     "5881a462f2244c24a719aa748d4ea802": {
      "model_module": "@jupyter-widgets/controls",
      "model_module_version": "2.0.0",
      "model_name": "HTMLStyleModel",
      "state": {
       "_model_module": "@jupyter-widgets/controls",
       "_model_module_version": "2.0.0",
       "_model_name": "HTMLStyleModel",
       "_view_count": null,
       "_view_module": "@jupyter-widgets/base",
       "_view_module_version": "2.0.0",
       "_view_name": "StyleView",
       "background": null,
       "description_width": "",
       "font_size": null,
       "text_color": null
      }
     },
     "5f0c0a94d111426d87ddb12b06155b7c": {
      "model_module": "@jupyter-widgets/base",
      "model_module_version": "2.0.0",
      "model_name": "LayoutModel",
      "state": {
       "_model_module": "@jupyter-widgets/base",
       "_model_module_version": "2.0.0",
       "_model_name": "LayoutModel",
       "_view_count": null,
       "_view_module": "@jupyter-widgets/base",
       "_view_module_version": "2.0.0",
       "_view_name": "LayoutView",
       "align_content": null,
       "align_items": null,
       "align_self": null,
       "border_bottom": null,
       "border_left": null,
       "border_right": null,
       "border_top": null,
       "bottom": null,
       "display": null,
       "flex": null,
       "flex_flow": null,
       "grid_area": null,
       "grid_auto_columns": null,
       "grid_auto_flow": null,
       "grid_auto_rows": null,
       "grid_column": null,
       "grid_gap": null,
       "grid_row": null,
       "grid_template_areas": null,
       "grid_template_columns": null,
       "grid_template_rows": null,
       "height": null,
       "justify_content": null,
       "justify_items": null,
       "left": null,
       "margin": null,
       "max_height": null,
       "max_width": null,
       "min_height": null,
       "min_width": null,
       "object_fit": null,
       "object_position": null,
       "order": null,
       "overflow": null,
       "padding": null,
       "right": null,
       "top": null,
       "visibility": null,
       "width": null
      }
     },
     "5f83e32b011b4503b1e67a736ec1153f": {
      "model_module": "@jupyter-widgets/base",
      "model_module_version": "2.0.0",
      "model_name": "LayoutModel",
      "state": {
       "_model_module": "@jupyter-widgets/base",
       "_model_module_version": "2.0.0",
       "_model_name": "LayoutModel",
       "_view_count": null,
       "_view_module": "@jupyter-widgets/base",
       "_view_module_version": "2.0.0",
       "_view_name": "LayoutView",
       "align_content": null,
       "align_items": null,
       "align_self": null,
       "border_bottom": null,
       "border_left": null,
       "border_right": null,
       "border_top": null,
       "bottom": null,
       "display": null,
       "flex": null,
       "flex_flow": null,
       "grid_area": null,
       "grid_auto_columns": null,
       "grid_auto_flow": null,
       "grid_auto_rows": null,
       "grid_column": null,
       "grid_gap": null,
       "grid_row": null,
       "grid_template_areas": null,
       "grid_template_columns": null,
       "grid_template_rows": null,
       "height": null,
       "justify_content": null,
       "justify_items": null,
       "left": null,
       "margin": null,
       "max_height": null,
       "max_width": null,
       "min_height": null,
       "min_width": null,
       "object_fit": null,
       "object_position": null,
       "order": null,
       "overflow": null,
       "padding": null,
       "right": null,
       "top": null,
       "visibility": null,
       "width": null
      }
     },
     "651e7062e6e94d4495ccd2f06cb05c2a": {
      "model_module": "@jupyter-widgets/controls",
      "model_module_version": "2.0.0",
      "model_name": "ProgressStyleModel",
      "state": {
       "_model_module": "@jupyter-widgets/controls",
       "_model_module_version": "2.0.0",
       "_model_name": "ProgressStyleModel",
       "_view_count": null,
       "_view_module": "@jupyter-widgets/base",
       "_view_module_version": "2.0.0",
       "_view_name": "StyleView",
       "bar_color": null,
       "description_width": ""
      }
     },
     "6696944c8b7e4d59b3ac6bd73385cf73": {
      "model_module": "@jupyter-widgets/controls",
      "model_module_version": "2.0.0",
      "model_name": "FloatProgressModel",
      "state": {
       "_dom_classes": [],
       "_model_module": "@jupyter-widgets/controls",
       "_model_module_version": "2.0.0",
       "_model_name": "FloatProgressModel",
       "_view_count": null,
       "_view_module": "@jupyter-widgets/controls",
       "_view_module_version": "2.0.0",
       "_view_name": "ProgressView",
       "bar_style": "",
       "description": "",
       "description_allow_html": false,
       "layout": "IPY_MODEL_5f83e32b011b4503b1e67a736ec1153f",
       "max": 1.1487236E7,
       "min": 0.0,
       "orientation": "horizontal",
       "style": "IPY_MODEL_e87634fce8704dd3824c2a8685c5fd3b",
       "tabbable": null,
       "tooltip": null,
       "value": 1.1487236E7
      }
     },
     "6eb3fa3d7ca84770ab2d24b2f6a694f0": {
      "model_module": "@jupyter-widgets/controls",
      "model_module_version": "2.0.0",
      "model_name": "HBoxModel",
      "state": {
       "_dom_classes": [],
       "_model_module": "@jupyter-widgets/controls",
       "_model_module_version": "2.0.0",
       "_model_name": "HBoxModel",
       "_view_count": null,
       "_view_module": "@jupyter-widgets/controls",
       "_view_module_version": "2.0.0",
       "_view_name": "HBoxView",
       "box_style": "",
       "children": [
        "IPY_MODEL_9a1c2d53a29847cb922cb476fc4f183c",
        "IPY_MODEL_1fa24287923243499d42735aa608dff0",
        "IPY_MODEL_058c8e23e6de45c1841c599bad46d0b3"
       ],
       "layout": "IPY_MODEL_5158f437f7d047bbaa6a13a1095abc5d",
       "tabbable": null,
       "tooltip": null
      }
     },
     "745bd731db15493b94afcb25781cdce3": {
      "model_module": "@jupyter-widgets/controls",
      "model_module_version": "2.0.0",
      "model_name": "HTMLModel",
      "state": {
       "_dom_classes": [],
       "_model_module": "@jupyter-widgets/controls",
       "_model_module_version": "2.0.0",
       "_model_name": "HTMLModel",
       "_view_count": null,
       "_view_module": "@jupyter-widgets/controls",
       "_view_module_version": "2.0.0",
       "_view_name": "HTMLView",
       "description": "",
       "description_allow_html": false,
       "layout": "IPY_MODEL_af41c228dd5a4dd5974318559a188ad9",
       "placeholder": "​",
       "style": "IPY_MODEL_3885025f998d438db913dc34571f3e63",
       "tabbable": null,
       "tooltip": null,
       "value": " 51703476/51704546 [1:10:24&lt;00:00, 61767.59it/s]"
      }
     },
     "78c81efb67d54e3d88c799a8c2134c3b": {
      "model_module": "@jupyter-widgets/controls",
      "model_module_version": "2.0.0",
      "model_name": "HTMLStyleModel",
      "state": {
       "_model_module": "@jupyter-widgets/controls",
       "_model_module_version": "2.0.0",
       "_model_name": "HTMLStyleModel",
       "_view_count": null,
       "_view_module": "@jupyter-widgets/base",
       "_view_module_version": "2.0.0",
       "_view_name": "StyleView",
       "background": null,
       "description_width": "",
       "font_size": null,
       "text_color": null
      }
     },
     "7e2286be25f945bdbc96050404e05610": {
      "model_module": "@jupyter-widgets/base",
      "model_module_version": "2.0.0",
      "model_name": "LayoutModel",
      "state": {
       "_model_module": "@jupyter-widgets/base",
       "_model_module_version": "2.0.0",
       "_model_name": "LayoutModel",
       "_view_count": null,
       "_view_module": "@jupyter-widgets/base",
       "_view_module_version": "2.0.0",
       "_view_name": "LayoutView",
       "align_content": null,
       "align_items": null,
       "align_self": null,
       "border_bottom": null,
       "border_left": null,
       "border_right": null,
       "border_top": null,
       "bottom": null,
       "display": null,
       "flex": null,
       "flex_flow": null,
       "grid_area": null,
       "grid_auto_columns": null,
       "grid_auto_flow": null,
       "grid_auto_rows": null,
       "grid_column": null,
       "grid_gap": null,
       "grid_row": null,
       "grid_template_areas": null,
       "grid_template_columns": null,
       "grid_template_rows": null,
       "height": null,
       "justify_content": null,
       "justify_items": null,
       "left": null,
       "margin": null,
       "max_height": null,
       "max_width": null,
       "min_height": null,
       "min_width": null,
       "object_fit": null,
       "object_position": null,
       "order": null,
       "overflow": null,
       "padding": null,
       "right": null,
       "top": null,
       "visibility": null,
       "width": null
      }
     },
     "832305393f184c819596e36c4ffcd2cd": {
      "model_module": "@jupyter-widgets/base",
      "model_module_version": "2.0.0",
      "model_name": "LayoutModel",
      "state": {
       "_model_module": "@jupyter-widgets/base",
       "_model_module_version": "2.0.0",
       "_model_name": "LayoutModel",
       "_view_count": null,
       "_view_module": "@jupyter-widgets/base",
       "_view_module_version": "2.0.0",
       "_view_name": "LayoutView",
       "align_content": null,
       "align_items": null,
       "align_self": null,
       "border_bottom": null,
       "border_left": null,
       "border_right": null,
       "border_top": null,
       "bottom": null,
       "display": null,
       "flex": null,
       "flex_flow": null,
       "grid_area": null,
       "grid_auto_columns": null,
       "grid_auto_flow": null,
       "grid_auto_rows": null,
       "grid_column": null,
       "grid_gap": null,
       "grid_row": null,
       "grid_template_areas": null,
       "grid_template_columns": null,
       "grid_template_rows": null,
       "height": null,
       "justify_content": null,
       "justify_items": null,
       "left": null,
       "margin": null,
       "max_height": null,
       "max_width": null,
       "min_height": null,
       "min_width": null,
       "object_fit": null,
       "object_position": null,
       "order": null,
       "overflow": null,
       "padding": null,
       "right": null,
       "top": null,
       "visibility": null,
       "width": null
      }
     },
     "872a0a6b02a749cfbd29d87a2dae3907": {
      "model_module": "@jupyter-widgets/controls",
      "model_module_version": "2.0.0",
      "model_name": "ProgressStyleModel",
      "state": {
       "_model_module": "@jupyter-widgets/controls",
       "_model_module_version": "2.0.0",
       "_model_name": "ProgressStyleModel",
       "_view_count": null,
       "_view_module": "@jupyter-widgets/base",
       "_view_module_version": "2.0.0",
       "_view_name": "StyleView",
       "bar_color": null,
       "description_width": ""
      }
     },
     "984775e2861d4276801cb2a820955228": {
      "model_module": "@jupyter-widgets/controls",
      "model_module_version": "2.0.0",
      "model_name": "HTMLStyleModel",
      "state": {
       "_model_module": "@jupyter-widgets/controls",
       "_model_module_version": "2.0.0",
       "_model_name": "HTMLStyleModel",
       "_view_count": null,
       "_view_module": "@jupyter-widgets/base",
       "_view_module_version": "2.0.0",
       "_view_name": "StyleView",
       "background": null,
       "description_width": "",
       "font_size": null,
       "text_color": null
      }
     },
     "986fba8be82f4ee7a7522ce3ec114019": {
      "model_module": "@jupyter-widgets/base",
      "model_module_version": "2.0.0",
      "model_name": "LayoutModel",
      "state": {
       "_model_module": "@jupyter-widgets/base",
       "_model_module_version": "2.0.0",
       "_model_name": "LayoutModel",
       "_view_count": null,
       "_view_module": "@jupyter-widgets/base",
       "_view_module_version": "2.0.0",
       "_view_name": "LayoutView",
       "align_content": null,
       "align_items": null,
       "align_self": null,
       "border_bottom": null,
       "border_left": null,
       "border_right": null,
       "border_top": null,
       "bottom": null,
       "display": null,
       "flex": null,
       "flex_flow": null,
       "grid_area": null,
       "grid_auto_columns": null,
       "grid_auto_flow": null,
       "grid_auto_rows": null,
       "grid_column": null,
       "grid_gap": null,
       "grid_row": null,
       "grid_template_areas": null,
       "grid_template_columns": null,
       "grid_template_rows": null,
       "height": null,
       "justify_content": null,
       "justify_items": null,
       "left": null,
       "margin": null,
       "max_height": null,
       "max_width": null,
       "min_height": null,
       "min_width": null,
       "object_fit": null,
       "object_position": null,
       "order": null,
       "overflow": null,
       "padding": null,
       "right": null,
       "top": null,
       "visibility": null,
       "width": null
      }
     },
     "9a1c2d53a29847cb922cb476fc4f183c": {
      "model_module": "@jupyter-widgets/controls",
      "model_module_version": "2.0.0",
      "model_name": "HTMLModel",
      "state": {
       "_dom_classes": [],
       "_model_module": "@jupyter-widgets/controls",
       "_model_module_version": "2.0.0",
       "_model_name": "HTMLModel",
       "_view_count": null,
       "_view_module": "@jupyter-widgets/controls",
       "_view_module_version": "2.0.0",
       "_view_name": "HTMLView",
       "description": "",
       "description_allow_html": false,
       "layout": "IPY_MODEL_cb9b5b23d7ae4b84a741a4a202be9e19",
       "placeholder": "​",
       "style": "IPY_MODEL_78c81efb67d54e3d88c799a8c2134c3b",
       "tabbable": null,
       "tooltip": null,
       "value": "100%"
      }
     },
     "ac0109f6f24342fcb98e83da6e45c24f": {
      "model_module": "@jupyter-widgets/base",
      "model_module_version": "2.0.0",
      "model_name": "LayoutModel",
      "state": {
       "_model_module": "@jupyter-widgets/base",
       "_model_module_version": "2.0.0",
       "_model_name": "LayoutModel",
       "_view_count": null,
       "_view_module": "@jupyter-widgets/base",
       "_view_module_version": "2.0.0",
       "_view_name": "LayoutView",
       "align_content": null,
       "align_items": null,
       "align_self": null,
       "border_bottom": null,
       "border_left": null,
       "border_right": null,
       "border_top": null,
       "bottom": null,
       "display": null,
       "flex": null,
       "flex_flow": null,
       "grid_area": null,
       "grid_auto_columns": null,
       "grid_auto_flow": null,
       "grid_auto_rows": null,
       "grid_column": null,
       "grid_gap": null,
       "grid_row": null,
       "grid_template_areas": null,
       "grid_template_columns": null,
       "grid_template_rows": null,
       "height": null,
       "justify_content": null,
       "justify_items": null,
       "left": null,
       "margin": null,
       "max_height": null,
       "max_width": null,
       "min_height": null,
       "min_width": null,
       "object_fit": null,
       "object_position": null,
       "order": null,
       "overflow": null,
       "padding": null,
       "right": null,
       "top": null,
       "visibility": null,
       "width": null
      }
     },
     "aeab22de37f84412b9d813cb3c620f27": {
      "model_module": "@jupyter-widgets/base",
      "model_module_version": "2.0.0",
      "model_name": "LayoutModel",
      "state": {
       "_model_module": "@jupyter-widgets/base",
       "_model_module_version": "2.0.0",
       "_model_name": "LayoutModel",
       "_view_count": null,
       "_view_module": "@jupyter-widgets/base",
       "_view_module_version": "2.0.0",
       "_view_name": "LayoutView",
       "align_content": null,
       "align_items": null,
       "align_self": null,
       "border_bottom": null,
       "border_left": null,
       "border_right": null,
       "border_top": null,
       "bottom": null,
       "display": null,
       "flex": null,
       "flex_flow": null,
       "grid_area": null,
       "grid_auto_columns": null,
       "grid_auto_flow": null,
       "grid_auto_rows": null,
       "grid_column": null,
       "grid_gap": null,
       "grid_row": null,
       "grid_template_areas": null,
       "grid_template_columns": null,
       "grid_template_rows": null,
       "height": null,
       "justify_content": null,
       "justify_items": null,
       "left": null,
       "margin": null,
       "max_height": null,
       "max_width": null,
       "min_height": null,
       "min_width": null,
       "object_fit": null,
       "object_position": null,
       "order": null,
       "overflow": null,
       "padding": null,
       "right": null,
       "top": null,
       "visibility": null,
       "width": null
      }
     },
     "af41c228dd5a4dd5974318559a188ad9": {
      "model_module": "@jupyter-widgets/base",
      "model_module_version": "2.0.0",
      "model_name": "LayoutModel",
      "state": {
       "_model_module": "@jupyter-widgets/base",
       "_model_module_version": "2.0.0",
       "_model_name": "LayoutModel",
       "_view_count": null,
       "_view_module": "@jupyter-widgets/base",
       "_view_module_version": "2.0.0",
       "_view_name": "LayoutView",
       "align_content": null,
       "align_items": null,
       "align_self": null,
       "border_bottom": null,
       "border_left": null,
       "border_right": null,
       "border_top": null,
       "bottom": null,
       "display": null,
       "flex": null,
       "flex_flow": null,
       "grid_area": null,
       "grid_auto_columns": null,
       "grid_auto_flow": null,
       "grid_auto_rows": null,
       "grid_column": null,
       "grid_gap": null,
       "grid_row": null,
       "grid_template_areas": null,
       "grid_template_columns": null,
       "grid_template_rows": null,
       "height": null,
       "justify_content": null,
       "justify_items": null,
       "left": null,
       "margin": null,
       "max_height": null,
       "max_width": null,
       "min_height": null,
       "min_width": null,
       "object_fit": null,
       "object_position": null,
       "order": null,
       "overflow": null,
       "padding": null,
       "right": null,
       "top": null,
       "visibility": null,
       "width": null
      }
     },
     "af951081b837467eb764ec5ff5ee8676": {
      "model_module": "@jupyter-widgets/base",
      "model_module_version": "2.0.0",
      "model_name": "LayoutModel",
      "state": {
       "_model_module": "@jupyter-widgets/base",
       "_model_module_version": "2.0.0",
       "_model_name": "LayoutModel",
       "_view_count": null,
       "_view_module": "@jupyter-widgets/base",
       "_view_module_version": "2.0.0",
       "_view_name": "LayoutView",
       "align_content": null,
       "align_items": null,
       "align_self": null,
       "border_bottom": null,
       "border_left": null,
       "border_right": null,
       "border_top": null,
       "bottom": null,
       "display": null,
       "flex": null,
       "flex_flow": null,
       "grid_area": null,
       "grid_auto_columns": null,
       "grid_auto_flow": null,
       "grid_auto_rows": null,
       "grid_column": null,
       "grid_gap": null,
       "grid_row": null,
       "grid_template_areas": null,
       "grid_template_columns": null,
       "grid_template_rows": null,
       "height": null,
       "justify_content": null,
       "justify_items": null,
       "left": null,
       "margin": null,
       "max_height": null,
       "max_width": null,
       "min_height": null,
       "min_width": null,
       "object_fit": null,
       "object_position": null,
       "order": null,
       "overflow": null,
       "padding": null,
       "right": null,
       "top": null,
       "visibility": null,
       "width": null
      }
     },
     "b01972308cd84721a6ffeeef0d0aa0be": {
      "model_module": "@jupyter-widgets/base",
      "model_module_version": "2.0.0",
      "model_name": "LayoutModel",
      "state": {
       "_model_module": "@jupyter-widgets/base",
       "_model_module_version": "2.0.0",
       "_model_name": "LayoutModel",
       "_view_count": null,
       "_view_module": "@jupyter-widgets/base",
       "_view_module_version": "2.0.0",
       "_view_name": "LayoutView",
       "align_content": null,
       "align_items": null,
       "align_self": null,
       "border_bottom": null,
       "border_left": null,
       "border_right": null,
       "border_top": null,
       "bottom": null,
       "display": null,
       "flex": null,
       "flex_flow": null,
       "grid_area": null,
       "grid_auto_columns": null,
       "grid_auto_flow": null,
       "grid_auto_rows": null,
       "grid_column": null,
       "grid_gap": null,
       "grid_row": null,
       "grid_template_areas": null,
       "grid_template_columns": null,
       "grid_template_rows": null,
       "height": null,
       "justify_content": null,
       "justify_items": null,
       "left": null,
       "margin": null,
       "max_height": null,
       "max_width": null,
       "min_height": null,
       "min_width": null,
       "object_fit": null,
       "object_position": null,
       "order": null,
       "overflow": null,
       "padding": null,
       "right": null,
       "top": null,
       "visibility": null,
       "width": null
      }
     },
     "b32beca299414191aa4bb72935235af5": {
      "model_module": "@jupyter-widgets/controls",
      "model_module_version": "2.0.0",
      "model_name": "HTMLStyleModel",
      "state": {
       "_model_module": "@jupyter-widgets/controls",
       "_model_module_version": "2.0.0",
       "_model_name": "HTMLStyleModel",
       "_view_count": null,
       "_view_module": "@jupyter-widgets/base",
       "_view_module_version": "2.0.0",
       "_view_name": "StyleView",
       "background": null,
       "description_width": "",
       "font_size": null,
       "text_color": null
      }
     },
     "bcde824c69b745278c667512ffea9453": {
      "model_module": "@jupyter-widgets/controls",
      "model_module_version": "2.0.0",
      "model_name": "FloatProgressModel",
      "state": {
       "_dom_classes": [],
       "_model_module": "@jupyter-widgets/controls",
       "_model_module_version": "2.0.0",
       "_model_name": "FloatProgressModel",
       "_view_count": null,
       "_view_module": "@jupyter-widgets/controls",
       "_view_module_version": "2.0.0",
       "_view_name": "ProgressView",
       "bar_style": "danger",
       "description": "",
       "description_allow_html": false,
       "layout": "IPY_MODEL_f2d82cacecc9493295741ae970381eea",
       "max": 5.1704546E7,
       "min": 0.0,
       "orientation": "horizontal",
       "style": "IPY_MODEL_651e7062e6e94d4495ccd2f06cb05c2a",
       "tabbable": null,
       "tooltip": null,
       "value": 5.1703476E7
      }
     },
     "bdfb5a775ba04c458828718e6926edc7": {
      "model_module": "@jupyter-widgets/base",
      "model_module_version": "2.0.0",
      "model_name": "LayoutModel",
      "state": {
       "_model_module": "@jupyter-widgets/base",
       "_model_module_version": "2.0.0",
       "_model_name": "LayoutModel",
       "_view_count": null,
       "_view_module": "@jupyter-widgets/base",
       "_view_module_version": "2.0.0",
       "_view_name": "LayoutView",
       "align_content": null,
       "align_items": null,
       "align_self": null,
       "border_bottom": null,
       "border_left": null,
       "border_right": null,
       "border_top": null,
       "bottom": null,
       "display": null,
       "flex": null,
       "flex_flow": null,
       "grid_area": null,
       "grid_auto_columns": null,
       "grid_auto_flow": null,
       "grid_auto_rows": null,
       "grid_column": null,
       "grid_gap": null,
       "grid_row": null,
       "grid_template_areas": null,
       "grid_template_columns": null,
       "grid_template_rows": null,
       "height": null,
       "justify_content": null,
       "justify_items": null,
       "left": null,
       "margin": null,
       "max_height": null,
       "max_width": null,
       "min_height": null,
       "min_width": null,
       "object_fit": null,
       "object_position": null,
       "order": null,
       "overflow": null,
       "padding": null,
       "right": null,
       "top": null,
       "visibility": null,
       "width": null
      }
     },
     "c0096d39e785442b92b2118e0047af76": {
      "model_module": "@jupyter-widgets/base",
      "model_module_version": "2.0.0",
      "model_name": "LayoutModel",
      "state": {
       "_model_module": "@jupyter-widgets/base",
       "_model_module_version": "2.0.0",
       "_model_name": "LayoutModel",
       "_view_count": null,
       "_view_module": "@jupyter-widgets/base",
       "_view_module_version": "2.0.0",
       "_view_name": "LayoutView",
       "align_content": null,
       "align_items": null,
       "align_self": null,
       "border_bottom": null,
       "border_left": null,
       "border_right": null,
       "border_top": null,
       "bottom": null,
       "display": null,
       "flex": null,
       "flex_flow": null,
       "grid_area": null,
       "grid_auto_columns": null,
       "grid_auto_flow": null,
       "grid_auto_rows": null,
       "grid_column": null,
       "grid_gap": null,
       "grid_row": null,
       "grid_template_areas": null,
       "grid_template_columns": null,
       "grid_template_rows": null,
       "height": null,
       "justify_content": null,
       "justify_items": null,
       "left": null,
       "margin": null,
       "max_height": null,
       "max_width": null,
       "min_height": null,
       "min_width": null,
       "object_fit": null,
       "object_position": null,
       "order": null,
       "overflow": null,
       "padding": null,
       "right": null,
       "top": null,
       "visibility": null,
       "width": null
      }
     },
     "c05b6b0fe0b14f8dba8c8532d5becad1": {
      "model_module": "@jupyter-widgets/controls",
      "model_module_version": "2.0.0",
      "model_name": "ProgressStyleModel",
      "state": {
       "_model_module": "@jupyter-widgets/controls",
       "_model_module_version": "2.0.0",
       "_model_name": "ProgressStyleModel",
       "_view_count": null,
       "_view_module": "@jupyter-widgets/base",
       "_view_module_version": "2.0.0",
       "_view_name": "StyleView",
       "bar_color": null,
       "description_width": ""
      }
     },
     "c4be2919bd0e4268b12084930e9ced9e": {
      "model_module": "@jupyter-widgets/controls",
      "model_module_version": "2.0.0",
      "model_name": "ProgressStyleModel",
      "state": {
       "_model_module": "@jupyter-widgets/controls",
       "_model_module_version": "2.0.0",
       "_model_name": "ProgressStyleModel",
       "_view_count": null,
       "_view_module": "@jupyter-widgets/base",
       "_view_module_version": "2.0.0",
       "_view_name": "StyleView",
       "bar_color": null,
       "description_width": ""
      }
     },
     "cb9b5b23d7ae4b84a741a4a202be9e19": {
      "model_module": "@jupyter-widgets/base",
      "model_module_version": "2.0.0",
      "model_name": "LayoutModel",
      "state": {
       "_model_module": "@jupyter-widgets/base",
       "_model_module_version": "2.0.0",
       "_model_name": "LayoutModel",
       "_view_count": null,
       "_view_module": "@jupyter-widgets/base",
       "_view_module_version": "2.0.0",
       "_view_name": "LayoutView",
       "align_content": null,
       "align_items": null,
       "align_self": null,
       "border_bottom": null,
       "border_left": null,
       "border_right": null,
       "border_top": null,
       "bottom": null,
       "display": null,
       "flex": null,
       "flex_flow": null,
       "grid_area": null,
       "grid_auto_columns": null,
       "grid_auto_flow": null,
       "grid_auto_rows": null,
       "grid_column": null,
       "grid_gap": null,
       "grid_row": null,
       "grid_template_areas": null,
       "grid_template_columns": null,
       "grid_template_rows": null,
       "height": null,
       "justify_content": null,
       "justify_items": null,
       "left": null,
       "margin": null,
       "max_height": null,
       "max_width": null,
       "min_height": null,
       "min_width": null,
       "object_fit": null,
       "object_position": null,
       "order": null,
       "overflow": null,
       "padding": null,
       "right": null,
       "top": null,
       "visibility": null,
       "width": null
      }
     },
     "ced7adf4a23145f48987c59449d6e614": {
      "model_module": "@jupyter-widgets/controls",
      "model_module_version": "2.0.0",
      "model_name": "HTMLModel",
      "state": {
       "_dom_classes": [],
       "_model_module": "@jupyter-widgets/controls",
       "_model_module_version": "2.0.0",
       "_model_name": "HTMLModel",
       "_view_count": null,
       "_view_module": "@jupyter-widgets/controls",
       "_view_module_version": "2.0.0",
       "_view_name": "HTMLView",
       "description": "",
       "description_allow_html": false,
       "layout": "IPY_MODEL_aeab22de37f84412b9d813cb3c620f27",
       "placeholder": "​",
       "style": "IPY_MODEL_5881a462f2244c24a719aa748d4ea802",
       "tabbable": null,
       "tooltip": null,
       "value": " 145983/145994 [14:51&lt;00:00, 179.40it/s]"
      }
     },
     "cf9daf10403d4659b6e1b6253847400a": {
      "model_module": "@jupyter-widgets/base",
      "model_module_version": "2.0.0",
      "model_name": "LayoutModel",
      "state": {
       "_model_module": "@jupyter-widgets/base",
       "_model_module_version": "2.0.0",
       "_model_name": "LayoutModel",
       "_view_count": null,
       "_view_module": "@jupyter-widgets/base",
       "_view_module_version": "2.0.0",
       "_view_name": "LayoutView",
       "align_content": null,
       "align_items": null,
       "align_self": null,
       "border_bottom": null,
       "border_left": null,
       "border_right": null,
       "border_top": null,
       "bottom": null,
       "display": null,
       "flex": null,
       "flex_flow": null,
       "grid_area": null,
       "grid_auto_columns": null,
       "grid_auto_flow": null,
       "grid_auto_rows": null,
       "grid_column": null,
       "grid_gap": null,
       "grid_row": null,
       "grid_template_areas": null,
       "grid_template_columns": null,
       "grid_template_rows": null,
       "height": null,
       "justify_content": null,
       "justify_items": null,
       "left": null,
       "margin": null,
       "max_height": null,
       "max_width": null,
       "min_height": null,
       "min_width": null,
       "object_fit": null,
       "object_position": null,
       "order": null,
       "overflow": null,
       "padding": null,
       "right": null,
       "top": null,
       "visibility": null,
       "width": null
      }
     },
     "d4b96b03bfcf47d4a563571faad3b788": {
      "model_module": "@jupyter-widgets/controls",
      "model_module_version": "2.0.0",
      "model_name": "HTMLModel",
      "state": {
       "_dom_classes": [],
       "_model_module": "@jupyter-widgets/controls",
       "_model_module_version": "2.0.0",
       "_model_name": "HTMLModel",
       "_view_count": null,
       "_view_module": "@jupyter-widgets/controls",
       "_view_module_version": "2.0.0",
       "_view_name": "HTMLView",
       "description": "",
       "description_allow_html": false,
       "layout": "IPY_MODEL_c0096d39e785442b92b2118e0047af76",
       "placeholder": "​",
       "style": "IPY_MODEL_3769ebc44033487f85b212d1e1d38b20",
       "tabbable": null,
       "tooltip": null,
       "value": " 51704546/51704546 [22:36&lt;00:00, 64656.12it/s]"
      }
     },
     "d805abebcbd74b0fba5dd73d82d1e571": {
      "model_module": "@jupyter-widgets/base",
      "model_module_version": "2.0.0",
      "model_name": "LayoutModel",
      "state": {
       "_model_module": "@jupyter-widgets/base",
       "_model_module_version": "2.0.0",
       "_model_name": "LayoutModel",
       "_view_count": null,
       "_view_module": "@jupyter-widgets/base",
       "_view_module_version": "2.0.0",
       "_view_name": "LayoutView",
       "align_content": null,
       "align_items": null,
       "align_self": null,
       "border_bottom": null,
       "border_left": null,
       "border_right": null,
       "border_top": null,
       "bottom": null,
       "display": null,
       "flex": null,
       "flex_flow": null,
       "grid_area": null,
       "grid_auto_columns": null,
       "grid_auto_flow": null,
       "grid_auto_rows": null,
       "grid_column": null,
       "grid_gap": null,
       "grid_row": null,
       "grid_template_areas": null,
       "grid_template_columns": null,
       "grid_template_rows": null,
       "height": null,
       "justify_content": null,
       "justify_items": null,
       "left": null,
       "margin": null,
       "max_height": null,
       "max_width": null,
       "min_height": null,
       "min_width": null,
       "object_fit": null,
       "object_position": null,
       "order": null,
       "overflow": null,
       "padding": null,
       "right": null,
       "top": null,
       "visibility": null,
       "width": null
      }
     },
     "d84b0152b5e04bbaa93e72e0206951d4": {
      "model_module": "@jupyter-widgets/base",
      "model_module_version": "2.0.0",
      "model_name": "LayoutModel",
      "state": {
       "_model_module": "@jupyter-widgets/base",
       "_model_module_version": "2.0.0",
       "_model_name": "LayoutModel",
       "_view_count": null,
       "_view_module": "@jupyter-widgets/base",
       "_view_module_version": "2.0.0",
       "_view_name": "LayoutView",
       "align_content": null,
       "align_items": null,
       "align_self": null,
       "border_bottom": null,
       "border_left": null,
       "border_right": null,
       "border_top": null,
       "bottom": null,
       "display": null,
       "flex": null,
       "flex_flow": null,
       "grid_area": null,
       "grid_auto_columns": null,
       "grid_auto_flow": null,
       "grid_auto_rows": null,
       "grid_column": null,
       "grid_gap": null,
       "grid_row": null,
       "grid_template_areas": null,
       "grid_template_columns": null,
       "grid_template_rows": null,
       "height": null,
       "justify_content": null,
       "justify_items": null,
       "left": null,
       "margin": null,
       "max_height": null,
       "max_width": null,
       "min_height": null,
       "min_width": null,
       "object_fit": null,
       "object_position": null,
       "order": null,
       "overflow": null,
       "padding": null,
       "right": null,
       "top": null,
       "visibility": null,
       "width": null
      }
     },
     "dfc6e9ed62924eca98df05d170da8667": {
      "model_module": "@jupyter-widgets/controls",
      "model_module_version": "2.0.0",
      "model_name": "HBoxModel",
      "state": {
       "_dom_classes": [],
       "_model_module": "@jupyter-widgets/controls",
       "_model_module_version": "2.0.0",
       "_model_name": "HBoxModel",
       "_view_count": null,
       "_view_module": "@jupyter-widgets/controls",
       "_view_module_version": "2.0.0",
       "_view_name": "HBoxView",
       "box_style": "",
       "children": [
        "IPY_MODEL_1db01f8ac16845f28292d3ad0b259588",
        "IPY_MODEL_1ee1ba31555645e0a658d801299ecc07",
        "IPY_MODEL_d4b96b03bfcf47d4a563571faad3b788"
       ],
       "layout": "IPY_MODEL_cf9daf10403d4659b6e1b6253847400a",
       "tabbable": null,
       "tooltip": null
      }
     },
     "e45c8708a08446d48939b5ace8a5442e": {
      "model_module": "@jupyter-widgets/controls",
      "model_module_version": "2.0.0",
      "model_name": "HBoxModel",
      "state": {
       "_dom_classes": [],
       "_model_module": "@jupyter-widgets/controls",
       "_model_module_version": "2.0.0",
       "_model_name": "HBoxModel",
       "_view_count": null,
       "_view_module": "@jupyter-widgets/controls",
       "_view_module_version": "2.0.0",
       "_view_name": "HBoxView",
       "box_style": "",
       "children": [
        "IPY_MODEL_11b77a2a597f459f89269ead8a7a3766",
        "IPY_MODEL_2acf86fd5e174767a82336bd0a28e088",
        "IPY_MODEL_ced7adf4a23145f48987c59449d6e614"
       ],
       "layout": "IPY_MODEL_832305393f184c819596e36c4ffcd2cd",
       "tabbable": null,
       "tooltip": null
      }
     },
     "e87634fce8704dd3824c2a8685c5fd3b": {
      "model_module": "@jupyter-widgets/controls",
      "model_module_version": "2.0.0",
      "model_name": "ProgressStyleModel",
      "state": {
       "_model_module": "@jupyter-widgets/controls",
       "_model_module_version": "2.0.0",
       "_model_name": "ProgressStyleModel",
       "_view_count": null,
       "_view_module": "@jupyter-widgets/base",
       "_view_module_version": "2.0.0",
       "_view_name": "StyleView",
       "bar_color": null,
       "description_width": ""
      }
     },
     "eb41a84cb06d414fbabf0ff1cf9c83de": {
      "model_module": "@jupyter-widgets/base",
      "model_module_version": "2.0.0",
      "model_name": "LayoutModel",
      "state": {
       "_model_module": "@jupyter-widgets/base",
       "_model_module_version": "2.0.0",
       "_model_name": "LayoutModel",
       "_view_count": null,
       "_view_module": "@jupyter-widgets/base",
       "_view_module_version": "2.0.0",
       "_view_name": "LayoutView",
       "align_content": null,
       "align_items": null,
       "align_self": null,
       "border_bottom": null,
       "border_left": null,
       "border_right": null,
       "border_top": null,
       "bottom": null,
       "display": null,
       "flex": null,
       "flex_flow": null,
       "grid_area": null,
       "grid_auto_columns": null,
       "grid_auto_flow": null,
       "grid_auto_rows": null,
       "grid_column": null,
       "grid_gap": null,
       "grid_row": null,
       "grid_template_areas": null,
       "grid_template_columns": null,
       "grid_template_rows": null,
       "height": null,
       "justify_content": null,
       "justify_items": null,
       "left": null,
       "margin": null,
       "max_height": null,
       "max_width": null,
       "min_height": null,
       "min_width": null,
       "object_fit": null,
       "object_position": null,
       "order": null,
       "overflow": null,
       "padding": null,
       "right": null,
       "top": null,
       "visibility": null,
       "width": null
      }
     },
     "f2d82cacecc9493295741ae970381eea": {
      "model_module": "@jupyter-widgets/base",
      "model_module_version": "2.0.0",
      "model_name": "LayoutModel",
      "state": {
       "_model_module": "@jupyter-widgets/base",
       "_model_module_version": "2.0.0",
       "_model_name": "LayoutModel",
       "_view_count": null,
       "_view_module": "@jupyter-widgets/base",
       "_view_module_version": "2.0.0",
       "_view_name": "LayoutView",
       "align_content": null,
       "align_items": null,
       "align_self": null,
       "border_bottom": null,
       "border_left": null,
       "border_right": null,
       "border_top": null,
       "bottom": null,
       "display": null,
       "flex": null,
       "flex_flow": null,
       "grid_area": null,
       "grid_auto_columns": null,
       "grid_auto_flow": null,
       "grid_auto_rows": null,
       "grid_column": null,
       "grid_gap": null,
       "grid_row": null,
       "grid_template_areas": null,
       "grid_template_columns": null,
       "grid_template_rows": null,
       "height": null,
       "justify_content": null,
       "justify_items": null,
       "left": null,
       "margin": null,
       "max_height": null,
       "max_width": null,
       "min_height": null,
       "min_width": null,
       "object_fit": null,
       "object_position": null,
       "order": null,
       "overflow": null,
       "padding": null,
       "right": null,
       "top": null,
       "visibility": null,
       "width": null
      }
     },
     "f6ef9b5bd429435ea8e2c69b57207aeb": {
      "model_module": "@jupyter-widgets/controls",
      "model_module_version": "2.0.0",
      "model_name": "HTMLModel",
      "state": {
       "_dom_classes": [],
       "_model_module": "@jupyter-widgets/controls",
       "_model_module_version": "2.0.0",
       "_model_name": "HTMLModel",
       "_view_count": null,
       "_view_module": "@jupyter-widgets/controls",
       "_view_module_version": "2.0.0",
       "_view_name": "HTMLView",
       "description": "",
       "description_allow_html": false,
       "layout": "IPY_MODEL_05684acc3d6c4675b3b253416c99abe8",
       "placeholder": "​",
       "style": "IPY_MODEL_09ae000a729644219288ecbf6e30832c",
       "tabbable": null,
       "tooltip": null,
       "value": " 11487236/11487236 [03:36&lt;00:00, 79796.61it/s]"
      }
     },
     "f885754289b14382a168303e13502d90": {
      "model_module": "@jupyter-widgets/controls",
      "model_module_version": "2.0.0",
      "model_name": "SelectModel",
      "state": {
       "_dom_classes": [],
       "_model_module": "@jupyter-widgets/controls",
       "_model_module_version": "2.0.0",
       "_model_name": "SelectModel",
       "_options_labels": [
        "BradleyTerryFull",
        "BradleyTerryPart",
        "PlackettLuce",
        "ThurstoneMostellerFull",
        "ThurstoneMostellerPart"
       ],
       "_view_count": null,
       "_view_module": "@jupyter-widgets/controls",
       "_view_module_version": "2.0.0",
       "_view_name": "SelectView",
       "description": "Model:",
       "description_allow_html": false,
       "disabled": false,
       "index": 2,
       "layout": "IPY_MODEL_eb41a84cb06d414fbabf0ff1cf9c83de",
       "rows": 5,
       "style": "IPY_MODEL_3c4960caa50d49fcb240615b8c7ed70b",
       "tabbable": null,
       "tooltip": null
      }
     }
    },
    "version_major": 2,
    "version_minor": 0
   }
  }
 },
 "nbformat": 4,
 "nbformat_minor": 5
}
